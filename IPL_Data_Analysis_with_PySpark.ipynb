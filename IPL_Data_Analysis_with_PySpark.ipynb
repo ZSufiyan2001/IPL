{
  "cells": [
    {
      "cell_type": "markdown",
      "metadata": {
        "id": "view-in-github",
        "colab_type": "text"
      },
      "source": [
        "<a href=\"https://colab.research.google.com/github/puneetpushkar/IPL-Data-Analysis-with-PySpark/blob/main/IPL_Data_Analysis_with_PySpark.ipynb\" target=\"_parent\"><img src=\"https://colab.research.google.com/assets/colab-badge.svg\" alt=\"Open In Colab\"/></a>"
      ]
    },
    {
      "cell_type": "markdown",
      "source": [
        "### Section 01: Environment Setup"
      ],
      "metadata": {
        "application/vnd.databricks.v1+cell": {
          "title": "",
          "showTitle": false,
          "inputWidgets": {},
          "nuid": "b5610ec4-4c84-4462-9f75-0d81a39cefb1"
        },
        "id": "PuL4CKPYtkP6"
      }
    },
    {
      "cell_type": "code",
      "source": [
        "# innstall java\n",
        "!apt-get install openjdk-8-jdk-headless -qq > /dev/null\n",
        "\n",
        "# install spark (change the version number if needed)\n",
        "!wget -q https://archive.apache.org/dist/spark/spark-3.0.0/spark-3.0.0-bin-hadoop3.2.tgz\n",
        "\n",
        "# unzip the spark file to the current folder\n",
        "!tar xf spark-3.0.0-bin-hadoop3.2.tgz\n",
        "\n",
        "# set your spark folder to your system path environment. \n",
        "import os\n",
        "os.environ[\"JAVA_HOME\"] = \"/usr/lib/jvm/java-8-openjdk-amd64\"\n",
        "os.environ[\"SPARK_HOME\"] = \"/content/spark-3.0.0-bin-hadoop3.2\"\n",
        "\n",
        "\n",
        "# install findspark using pip\n",
        "!pip install -q findspark"
      ],
      "metadata": {
        "id": "S3j1SSMxv5m7"
      },
      "execution_count": 16,
      "outputs": []
    },
    {
      "cell_type": "code",
      "source": [
        "import findspark\n",
        "findspark.init()\n",
        "findspark.add_packages('mysql:mysql-connector-java:8.0.11')"
      ],
      "metadata": {
        "id": "uJlcvq7Evd95"
      },
      "execution_count": 17,
      "outputs": []
    },
    {
      "cell_type": "code",
      "source": [
        "import pyspark.sql\n",
        "import pyspark\n",
        "from pyspark.sql import SparkSession\n",
        "spark = SparkSession.builder\\\n",
        "        .master(\"local\")\\\n",
        "        .appName(\"Colab\")\\\n",
        "        .config('spark.ui.port', '4050')\\\n",
        "        .getOrCreate()"
      ],
      "metadata": {
        "id": "rfjkpTWUwO7y"
      },
      "execution_count": 24,
      "outputs": []
    },
    {
      "cell_type": "code",
      "source": [
        "spark"
      ],
      "metadata": {
        "colab": {
          "base_uri": "https://localhost:8080/",
          "height": 223
        },
        "id": "7Flmopi0wnYD",
        "outputId": "59c96963-f4a2-47cf-9fa4-2ecaac1e2ebd"
      },
      "execution_count": 32,
      "outputs": [
        {
          "output_type": "execute_result",
          "data": {
            "text/plain": [
              "<pyspark.sql.session.SparkSession at 0x7f57d6c890d0>"
            ],
            "text/html": [
              "\n",
              "            <div>\n",
              "                <p><b>SparkSession - in-memory</b></p>\n",
              "                \n",
              "        <div>\n",
              "            <p><b>SparkContext</b></p>\n",
              "\n",
              "            <p><a href=\"http://d4fda983df32:4050\">Spark UI</a></p>\n",
              "\n",
              "            <dl>\n",
              "              <dt>Version</dt>\n",
              "                <dd><code>v3.0.0</code></dd>\n",
              "              <dt>Master</dt>\n",
              "                <dd><code>local</code></dd>\n",
              "              <dt>AppName</dt>\n",
              "                <dd><code>Colab</code></dd>\n",
              "            </dl>\n",
              "        </div>\n",
              "        \n",
              "            </div>\n",
              "        "
            ]
          },
          "metadata": {},
          "execution_count": 32
        }
      ]
    },
    {
      "cell_type": "code",
      "source": [
        "ball_by_ball_df = spark.read.format(\"csv\") \\\n",
        "    .option(\"header\", True) \\\n",
        "    .load(\"/content/ipl_ball_by_ball.csv\")\n",
        "\n",
        "ipl_venue_df= spark.read.format(\"csv\") \\\n",
        "    .option(\"header\", True) \\\n",
        "    .load(\"/content/ipl_venue.csv\")\n",
        "\n",
        "ipl_matches_df = spark.read.format(\"csv\") \\\n",
        "    .option(\"header\", True) \\\n",
        "    .load(\"ipl_matches.csv\")"
      ],
      "metadata": {
        "id": "L7oWqPnMN6qP"
      },
      "execution_count": 46,
      "outputs": []
    },
    {
      "cell_type": "code",
      "source": [
        "ball_by_ball_df.printSchema()"
      ],
      "metadata": {
        "application/vnd.databricks.v1+cell": {
          "title": "",
          "showTitle": false,
          "inputWidgets": {},
          "nuid": "27b46638-2ede-4f91-8c98-708a6413ef71"
        },
        "colab": {
          "base_uri": "https://localhost:8080/"
        },
        "id": "QshPKHn4tkQP",
        "outputId": "84d2bff8-5e53-48c1-f1d2-c213f4bf43f0"
      },
      "outputs": [
        {
          "output_type": "stream",
          "name": "stdout",
          "text": [
            "root\n",
            " |-- match_id: string (nullable = true)\n",
            " |-- inning: string (nullable = true)\n",
            " |-- overs: string (nullable = true)\n",
            " |-- ball: string (nullable = true)\n",
            " |-- batsman: string (nullable = true)\n",
            " |-- non_striker: string (nullable = true)\n",
            " |-- bowler: string (nullable = true)\n",
            " |-- batsman_runs: string (nullable = true)\n",
            " |-- extra_runs: string (nullable = true)\n",
            " |-- total_runs: string (nullable = true)\n",
            " |-- non_boundary: string (nullable = true)\n",
            " |-- is_wicket: string (nullable = true)\n",
            " |-- dismissal_kind: string (nullable = true)\n",
            " |-- player_dismissed: string (nullable = true)\n",
            " |-- fielder: string (nullable = true)\n",
            " |-- extras_type: string (nullable = true)\n",
            " |-- batting_team: string (nullable = true)\n",
            " |-- bowling_team: string (nullable = true)\n",
            "\n"
          ]
        }
      ],
      "execution_count": 47
    },
    {
      "cell_type": "code",
      "source": [
        "ipl_venue_df.printSchema()"
      ],
      "metadata": {
        "application/vnd.databricks.v1+cell": {
          "title": "",
          "showTitle": false,
          "inputWidgets": {},
          "nuid": "36eb80d2-8464-4ba7-a765-a7d7e458d261"
        },
        "id": "JdbCMy6JtkQQ",
        "outputId": "619b7c87-8f77-4270-eb6b-f1ec295ae9c5",
        "colab": {
          "base_uri": "https://localhost:8080/"
        }
      },
      "outputs": [
        {
          "output_type": "stream",
          "name": "stdout",
          "text": [
            "root\n",
            " |-- venue_id: string (nullable = true)\n",
            " |-- venue: string (nullable = true)\n",
            " |-- city: string (nullable = true)\n",
            "\n"
          ]
        }
      ],
      "execution_count": 48
    },
    {
      "cell_type": "code",
      "source": [
        "ipl_matches_df.printSchema()"
      ],
      "metadata": {
        "application/vnd.databricks.v1+cell": {
          "title": "",
          "showTitle": false,
          "inputWidgets": {},
          "nuid": "36a79e65-02f3-4996-8cd3-e3e5744afcaf"
        },
        "id": "FIimMArQtkQQ",
        "outputId": "4c233409-daa2-4d9b-9b4f-46a4ad153831",
        "colab": {
          "base_uri": "https://localhost:8080/"
        }
      },
      "outputs": [
        {
          "output_type": "stream",
          "name": "stdout",
          "text": [
            "root\n",
            " |-- match_id: string (nullable = true)\n",
            " |-- date: string (nullable = true)\n",
            " |-- player_of_match: string (nullable = true)\n",
            " |-- venue_id: string (nullable = true)\n",
            " |-- neutral_venue: string (nullable = true)\n",
            " |-- team1: string (nullable = true)\n",
            " |-- team2: string (nullable = true)\n",
            " |-- toss_winner: string (nullable = true)\n",
            " |-- toss_decision: string (nullable = true)\n",
            " |-- winner: string (nullable = true)\n",
            " |-- result: string (nullable = true)\n",
            " |-- result_margin: string (nullable = true)\n",
            " |-- eliminator: string (nullable = true)\n",
            " |-- method: string (nullable = true)\n",
            " |-- umpire1: string (nullable = true)\n",
            " |-- umpire2: string (nullable = true)\n",
            "\n"
          ]
        }
      ],
      "execution_count": 49
    },
    {
      "cell_type": "code",
      "source": [
        "# Creating table from dataframe\n",
        "\n",
        "ipl_venue_df.createOrReplaceTempView(\"ipl_venue\")\n",
        "spark.sql(\"select * from ipl_venue\")\n",
        "ipl_matches_df.createOrReplaceTempView(\"ipl_matches\")\n",
        "spark.sql(\"select * from ipl_matches\")\n",
        "ball_by_ball_df.createOrReplaceTempView(\"ipl_ball_by_ball\")\n",
        "spark.sql(\"select * from ipl_ball_by_ball\")"
      ],
      "metadata": {
        "application/vnd.databricks.v1+cell": {
          "title": "",
          "showTitle": false,
          "inputWidgets": {},
          "nuid": "2f0e5ba0-a45b-4fed-b02f-45f1b9bd98de"
        },
        "id": "OItVbu1wtkQS",
        "outputId": "74c7a226-ea5f-4f0b-c140-f290a8a74aae",
        "colab": {
          "base_uri": "https://localhost:8080/"
        }
      },
      "outputs": [
        {
          "output_type": "execute_result",
          "data": {
            "text/plain": [
              "DataFrame[match_id: string, inning: string, overs: string, ball: string, batsman: string, non_striker: string, bowler: string, batsman_runs: string, extra_runs: string, total_runs: string, non_boundary: string, is_wicket: string, dismissal_kind: string, player_dismissed: string, fielder: string, extras_type: string, batting_team: string, bowling_team: string]"
            ]
          },
          "metadata": {},
          "execution_count": 50
        }
      ],
      "execution_count": 50
    },
    {
      "cell_type": "markdown",
      "source": [
        "### Section 02: Analysis"
      ],
      "metadata": {
        "application/vnd.databricks.v1+cell": {
          "title": "",
          "showTitle": false,
          "inputWidgets": {},
          "nuid": "3f936a48-46f3-4fe2-8e50-e76e190c82f4"
        },
        "id": "C9lXtGottkQT"
      }
    },
    {
      "cell_type": "markdown",
      "source": [
        "##### Question A:\n",
        "Find the top 3 venues which hosted the most number of eliminator\n",
        "matches?"
      ],
      "metadata": {
        "application/vnd.databricks.v1+cell": {
          "title": "",
          "showTitle": false,
          "inputWidgets": {},
          "nuid": "9604091a-5079-4189-a204-cbb3ff29af3b"
        },
        "id": "uG7_KkkgtkQV"
      }
    },
    {
      "cell_type": "code",
      "source": [
        "spark.sql(\n",
        "\"\"\"\n",
        "select v.venue, count(v.venue_id) venue_count from ipl_matches m \n",
        "join ipl_venue v on m.venue_id=v.venue_id\n",
        "where m.eliminator = 'Y'\n",
        "group by v.venue\n",
        "order by venue_count desc\n",
        "limit 3;\n",
        "\"\"\").show()"
      ],
      "metadata": {
        "application/vnd.databricks.v1+cell": {
          "title": "",
          "showTitle": false,
          "inputWidgets": {},
          "nuid": "7bdc79f4-1777-4787-bede-2338c5ba438f"
        },
        "id": "ZlyHO5VftkQX",
        "outputId": "1423cd13-b441-4c76-bbc4-ded43d9e3060",
        "colab": {
          "base_uri": "https://localhost:8080/"
        }
      },
      "outputs": [
        {
          "output_type": "stream",
          "name": "stdout",
          "text": [
            "+--------------------+-----------+\n",
            "|               venue|venue_count|\n",
            "+--------------------+-----------+\n",
            "|Dubai Internation...|          3|\n",
            "|Sheikh Zayed Stadium|          2|\n",
            "|Sardar Patel Stad...|          1|\n",
            "+--------------------+-----------+\n",
            "\n"
          ]
        }
      ],
      "execution_count": 51
    },
    {
      "cell_type": "markdown",
      "source": [
        "##### Question B: \n",
        "Return most number of catches taken by a player in IPL history?"
      ],
      "metadata": {
        "application/vnd.databricks.v1+cell": {
          "title": "",
          "showTitle": false,
          "inputWidgets": {},
          "nuid": "a04227ec-0905-4994-a26c-ababef67d3a0"
        },
        "id": "NJCKryQotkQa"
      }
    },
    {
      "cell_type": "code",
      "source": [
        "spark.sql(\n",
        "\"\"\"\n",
        "select fielder, count(dismissal_kind) NoOfCatches from ipl_ball_by_ball\n",
        "where dismissal_kind = \"caught\"\n",
        "group by fielder\n",
        "order by NoOfCatches desc\n",
        "limit 1;\n",
        "\"\"\").show()"
      ],
      "metadata": {
        "application/vnd.databricks.v1+cell": {
          "title": "",
          "showTitle": false,
          "inputWidgets": {},
          "nuid": "1a21fe2e-4b76-4ccb-98bc-2b734903a741"
        },
        "id": "_mOcbuJ9tkQe",
        "outputId": "e086d73e-801a-46a6-dd81-240a4e057d25",
        "colab": {
          "base_uri": "https://localhost:8080/"
        }
      },
      "outputs": [
        {
          "output_type": "stream",
          "name": "stdout",
          "text": [
            "+----------+-----------+\n",
            "|   fielder|NoOfCatches|\n",
            "+----------+-----------+\n",
            "|KD Karthik|        118|\n",
            "+----------+-----------+\n",
            "\n"
          ]
        }
      ],
      "execution_count": 52
    },
    {
      "cell_type": "markdown",
      "source": [
        "##### Question C:\n",
        "Write a query to return a report for highest wicket taker in matches\n",
        "which were affected by Duckworth-Lewis’s method (D/L method)."
      ],
      "metadata": {
        "application/vnd.databricks.v1+cell": {
          "title": "",
          "showTitle": false,
          "inputWidgets": {},
          "nuid": "c2971229-4260-4dbe-9970-fbb8eba7cee4"
        },
        "id": "oBmHDfEotkQg"
      }
    },
    {
      "cell_type": "code",
      "source": [
        "spark.sql(\n",
        "\"\"\"\n",
        "select m.match_id, bbb.bowler, count(bbb.bowler) NoOfWickets from ipl_ball_by_ball bbb\n",
        "join ipl_matches m on m.match_id = bbb.match_id\n",
        "where m.method = \"D/L\" and is_wicket = 1\n",
        "group by m.match_id, bbb.bowler\n",
        "order by NoOfWickets desc;\n",
        "\"\"\").show()"
      ],
      "metadata": {
        "application/vnd.databricks.v1+cell": {
          "title": "",
          "showTitle": false,
          "inputWidgets": {},
          "nuid": "d8202f88-71b5-4767-a1fb-b7e51222cf5b"
        },
        "id": "KW3j3IWKtkQl",
        "outputId": "0d4f3145-e25c-4e97-a46a-97eeb9e855c7",
        "colab": {
          "base_uri": "https://localhost:8080/"
        }
      },
      "outputs": [
        {
          "output_type": "stream",
          "name": "stdout",
          "text": [
            "+--------+---------------+-----------+\n",
            "|match_id|         bowler|NoOfWickets|\n",
            "+--------+---------------+-----------+\n",
            "|  392183|     DL Vettori|          5|\n",
            "|  336025|        M Ntini|          4|\n",
            "|  980999|      YS Chahal|          4|\n",
            "|  980943|       AB Dinda|          4|\n",
            "| 1136566|       S Nadeem|          3|\n",
            "| 1136592|       TA Boult|          3|\n",
            "|  980997|       AB Dinda|          3|\n",
            "| 1136592|     JD Unadkat|          3|\n",
            "| 1082648|NM Coulter-Nile|          3|\n",
            "|  980997|        A Zampa|          3|\n",
            "|  980999|      SR Watson|          2|\n",
            "| 1136578|         AJ Tye|          2|\n",
            "|  733993|   MC Henriques|          2|\n",
            "|  829807|   MC Henriques|          2|\n",
            "|  980989|       R Ashwin|          2|\n",
            "|  980943|       MR Marsh|          2|\n",
            "|  829807|        D Wiese|          2|\n",
            "|  392186|     SC Ganguly|          2|\n",
            "|  501245|       L Balaji|          2|\n",
            "|  501255|      JH Kallis|          2|\n",
            "+--------+---------------+-----------+\n",
            "only showing top 20 rows\n",
            "\n"
          ]
        }
      ],
      "execution_count": 53
    },
    {
      "cell_type": "markdown",
      "source": [
        "##### Question D: \n",
        "Write a query to return a report for highest strike rate by a batsman in non\n",
        "powerplay overs(7-20 overs)"
      ],
      "metadata": {
        "application/vnd.databricks.v1+cell": {
          "title": "",
          "showTitle": false,
          "inputWidgets": {},
          "nuid": "a8198ac4-d660-416d-b04c-1786ddfee495"
        },
        "id": "WgAObSp-tkQm"
      }
    },
    {
      "cell_type": "code",
      "source": [
        "spark.sql(\n",
        "\"\"\"\n",
        "select batsman, (sum(batsman_runs)/count(ball)*100) as strikeRate from ipl_ball_by_ball\n",
        "where (extras_type not in (\"wides\",\"noballs\")) \n",
        "and (overs >= 7 and overs <= 20)\n",
        "group by batsman\n",
        "order by strikeRate desc;\n",
        "\"\"\").show()"
      ],
      "metadata": {
        "application/vnd.databricks.v1+cell": {
          "title": "",
          "showTitle": false,
          "inputWidgets": {},
          "nuid": "214fcb66-e29f-4677-802e-a44654103686"
        },
        "id": "6A5arK9HtkQn",
        "outputId": "2c14d553-0ba1-47dd-ece6-5208bc9ba8d0",
        "colab": {
          "base_uri": "https://localhost:8080/"
        }
      },
      "outputs": [
        {
          "output_type": "stream",
          "name": "stdout",
          "text": [
            "+------------+------------------+\n",
            "|     batsman|        strikeRate|\n",
            "+------------+------------------+\n",
            "|  B Stanlake|             250.0|\n",
            "|Kamran Akmal|213.88888888888889|\n",
            "|  ER Dwivedi|211.11111111111111|\n",
            "|    Umar Gul|205.26315789473685|\n",
            "| AC Blizzard|             200.0|\n",
            "|    RS Sodhi|             200.0|\n",
            "|    W Jaffer|             188.0|\n",
            "|   DJM Short|187.09677419354838|\n",
            "|   LJ Wright|             186.0|\n",
            "|  AD Russell|181.85185185185185|\n",
            "|Vishnu Vinod|             180.0|\n",
            "|    V Sehwag|179.92351816443596|\n",
            "|   KK Cooper|179.31034482758622|\n",
            "|      MM Ali|178.28947368421052|\n",
            "|  I Malhotra|             175.0|\n",
            "|TU Deshpande|             175.0|\n",
            "|    CH Gayle|172.80564263322884|\n",
            "|   K Gowtham|171.15384615384613|\n",
            "| Abdul Samad|170.76923076923077|\n",
            "| BCJ Cutting|170.50359712230215|\n",
            "+------------+------------------+\n",
            "only showing top 20 rows\n",
            "\n"
          ]
        }
      ],
      "execution_count": 54
    },
    {
      "cell_type": "markdown",
      "source": [
        "##### Question E.\n",
        "Write a query to return a report for highest extra runs in a venue (stadium, city)."
      ],
      "metadata": {
        "application/vnd.databricks.v1+cell": {
          "title": "",
          "showTitle": false,
          "inputWidgets": {},
          "nuid": "009e5126-07d7-48f7-8206-68507fc312ff"
        },
        "id": "5rEwBDnCtkQo"
      }
    },
    {
      "cell_type": "code",
      "source": [
        "spark.sql(\n",
        "\"\"\"\n",
        "select v.venue, v.city, sum(bbb.extra_runs) extra_runs from ipl_ball_by_ball bbb\n",
        "inner join ipl_matches as m on bbb.match_id=m.match_id\n",
        "inner join ipl_venue as v on m.venue_id =v.venue_id\n",
        "group by venue, v.city\n",
        "order by extra_runs desc;\n",
        "\"\"\").show()"
      ],
      "metadata": {
        "application/vnd.databricks.v1+cell": {
          "title": "",
          "showTitle": false,
          "inputWidgets": {},
          "nuid": "da679bab-37df-4cb2-969b-4a81c68fed81"
        },
        "id": "_Uh3nO2XtkQp",
        "outputId": "dd88b31e-fe58-4eb7-a9be-9d714cead4c6",
        "colab": {
          "base_uri": "https://localhost:8080/"
        }
      },
      "outputs": [
        {
          "output_type": "stream",
          "name": "stdout",
          "text": [
            "+--------------------+----------+----------+\n",
            "|               venue|      city|extra_runs|\n",
            "+--------------------+----------+----------+\n",
            "|M.Chinnaswamy Sta...| Bengaluru|    1355.0|\n",
            "|    Wankhede Stadium|    Mumbai|    1232.0|\n",
            "|        Eden Gardens|   Kolkata|    1215.0|\n",
            "|    Feroz Shah Kotla|     Delhi|    1114.0|\n",
            "|MA Chidambaram St...|   Chennai|     905.0|\n",
            "|Rajiv Gandhi Inte...| Hyderabad|     900.0|\n",
            "|Sawai Mansingh St...|    Jaipur|     791.0|\n",
            "|Punjab Cricket As...|Chandigarh|     566.0|\n",
            "|Dubai Internation...|     Dubai|     492.0|\n",
            "|Sheikh Zayed Stadium| Abu Dhabi|     387.0|\n",
            "|Dr DY Patil Sport...|    Mumbai|     320.0|\n",
            "|Maharashtra Crick...|      Pune|     315.0|\n",
            "|Sharjah Cricket S...|   Sharjah|     287.0|\n",
            "|           Kingsmead|    Durban|     277.0|\n",
            "|Punjab Cricket As...|Chandigarh|     271.0|\n",
            "|   Brabourne Stadium|    Mumbai|     246.0|\n",
            "|Subrata Roy Sahar...|      Pune|     237.0|\n",
            "|     SuperSport Park| Centurion|     213.0|\n",
            "|Himachal Pradesh ...|Dharamsala|     177.0|\n",
            "|Sardar Patel Stad...| Ahmedabad|     175.0|\n",
            "+--------------------+----------+----------+\n",
            "only showing top 20 rows\n",
            "\n"
          ]
        }
      ],
      "execution_count": 55
    },
    {
      "cell_type": "markdown",
      "source": [
        "##### Question F: \n",
        "Write a query to return a report for the cricketers with the most number of players of\n",
        "the match award in neutral venues"
      ],
      "metadata": {
        "application/vnd.databricks.v1+cell": {
          "title": "",
          "showTitle": false,
          "inputWidgets": {},
          "nuid": "04dd0875-56d8-4089-a6f8-929ac6587552"
        },
        "id": "zN4HCSXdtkQ0"
      }
    },
    {
      "cell_type": "code",
      "source": [
        "spark.sql(\n",
        "\"\"\"\n",
        "select m.player_of_match, count(m.player_of_match) Count_Of_Player_Of_Match from ipl_matches m\n",
        "join ipl_venue v on m.venue_id = v.venue_id\n",
        "where neutral_venue = 1\n",
        "group by m.player_of_match\n",
        "order by count(m.player_of_match) desc;\n",
        "\"\"\").show()"
      ],
      "metadata": {
        "application/vnd.databricks.v1+cell": {
          "title": "",
          "showTitle": false,
          "inputWidgets": {},
          "nuid": "f5620c85-b3d5-4af2-9aa0-d348c383c190"
        },
        "id": "cCQCC57JtkQ2",
        "outputId": "8493e3d0-d84c-430d-8b7f-52ae5d653b6e",
        "colab": {
          "base_uri": "https://localhost:8080/"
        }
      },
      "outputs": [
        {
          "output_type": "stream",
          "name": "stdout",
          "text": [
            "+----------------+------------------------+\n",
            "| player_of_match|Count_Of_Player_Of_Match|\n",
            "+----------------+------------------------+\n",
            "|      GJ Maxwell|                       3|\n",
            "|       JH Kallis|                       3|\n",
            "|       JP Duminy|                       3|\n",
            "|       YK Pathan|                       3|\n",
            "|    Yuvraj Singh|                       2|\n",
            "|   KC Sangakkara|                       2|\n",
            "|  Sandeep Sharma|                       2|\n",
            "|    SR Tendulkar|                       2|\n",
            "|     LRPL Taylor|                       2|\n",
            "|        SK Raina|                       2|\n",
            "|  AB de Villiers|                       2|\n",
            "|       ML Hayden|                       2|\n",
            "|DPMD Jayawardene|                       2|\n",
            "|       RG Sharma|                       2|\n",
            "|        DR Smith|                       2|\n",
            "|  M Muralitharan|                       2|\n",
            "|       MK Pandey|                       2|\n",
            "|    AC Gilchrist|                       2|\n",
            "|     S Badrinath|                       1|\n",
            "|        V Sehwag|                       1|\n",
            "+----------------+------------------------+\n",
            "only showing top 20 rows\n",
            "\n"
          ]
        }
      ],
      "execution_count": 56
    },
    {
      "cell_type": "markdown",
      "source": [
        "##### Question G: \n",
        "Write a query to get a list of top 10 players with the highest batting average"
      ],
      "metadata": {
        "application/vnd.databricks.v1+cell": {
          "title": "",
          "showTitle": false,
          "inputWidgets": {},
          "nuid": "6d709ac0-8aee-4d3f-afa2-69bb1fa7b743"
        },
        "id": "Bp1Jv--xtkQ2"
      }
    },
    {
      "cell_type": "code",
      "source": [
        "spark.sql(\n",
        "\"\"\"\n",
        "select Batsman_, sum(batsman_runs)/count(player_dismissed) as Average \n",
        "from\n",
        "(\n",
        " (select batsman as Batsman_,batsman_runs,player_dismissed from IPL_BALL_BY_BALL where player_dismissed != 'NA')\n",
        ")\n",
        "group by Batsman_ \n",
        "order by Average desc;\n",
        "\"\"\").show()"
      ],
      "metadata": {
        "application/vnd.databricks.v1+cell": {
          "title": "",
          "showTitle": false,
          "inputWidgets": {},
          "nuid": "091a6df0-8db9-4554-9865-ccbaa4c8c41c"
        },
        "id": "f7A3V7qbtkQ3",
        "outputId": "96339a3a-03bb-4da3-e79e-e8a0ef172f90",
        "colab": {
          "base_uri": "https://localhost:8080/"
        }
      },
      "outputs": [
        {
          "output_type": "stream",
          "name": "stdout",
          "text": [
            "+---------------+------------------+\n",
            "|       Batsman_|           Average|\n",
            "+---------------+------------------+\n",
            "|   CRD Fernando|               2.0|\n",
            "|     KP Appanna|               1.0|\n",
            "|    LH Ferguson|               1.0|\n",
            "|      AA Noffke|               1.0|\n",
            "|       CV Varun|               0.5|\n",
            "|      SB Jakati|               0.5|\n",
            "|     T Thushara|               0.5|\n",
            "|     WD Parnell|0.4444444444444444|\n",
            "|KB Arun Karthik|               0.4|\n",
            "|       AC Voges|0.3333333333333333|\n",
            "|        T Taibu|0.3333333333333333|\n",
            "|    DS Kulkarni|0.3333333333333333|\n",
            "|        T Kohli|0.3333333333333333|\n",
            "|    BMAJ Mendis|0.3333333333333333|\n",
            "|       Umar Gul|0.3333333333333333|\n",
            "|    RJ Peterson|0.3333333333333333|\n",
            "|    NL McCullum|0.3333333333333333|\n",
            "|          B Lee|               0.3|\n",
            "|       R Dhawan|0.2857142857142857|\n",
            "|       S Narwal|              0.25|\n",
            "+---------------+------------------+\n",
            "only showing top 20 rows\n",
            "\n"
          ]
        }
      ],
      "execution_count": 57
    },
    {
      "cell_type": "markdown",
      "source": [
        "##### Question H:\n",
        "Write a query to find out who has officiated (as an umpire) the most\n",
        "number of matches in IPL"
      ],
      "metadata": {
        "application/vnd.databricks.v1+cell": {
          "title": "",
          "showTitle": false,
          "inputWidgets": {},
          "nuid": "7968975f-8bf1-46ff-aae9-1f7ecda6007d"
        },
        "id": "sHdpIMf7tkQ5"
      }
    },
    {
      "cell_type": "code",
      "source": [
        "spark.sql(\n",
        "\"\"\"\n",
        "select umpire, count(*) as No_of_Matches\n",
        "from ((select umpire1 as umpire from ipl_matches) union all\n",
        "      (select umpire2 from ipl_matches)\n",
        "     ) ipl_matches\n",
        "group by umpire\n",
        "order by count(*) desc ;\n",
        "\"\"\").show()\n",
        "#Combing two similar columns by union and counting numbers on times they have officiated"
      ],
      "metadata": {
        "application/vnd.databricks.v1+cell": {
          "title": "",
          "showTitle": false,
          "inputWidgets": {},
          "nuid": "995bf660-5405-43c6-a5b6-25a59034da36"
        },
        "id": "PWhqml1stkQ6",
        "outputId": "29b87e2d-4df8-4438-ce5a-f8782ac4e3ce",
        "colab": {
          "base_uri": "https://localhost:8080/"
        }
      },
      "outputs": [
        {
          "output_type": "stream",
          "name": "stdout",
          "text": [
            "+--------------------+-------------+\n",
            "|              umpire|No_of_Matches|\n",
            "+--------------------+-------------+\n",
            "|              S Ravi|          121|\n",
            "|     HDPK Dharmasena|           94|\n",
            "|        AK Chaudhary|           87|\n",
            "|       C Shamshuddin|           82|\n",
            "|           M Erasmus|           65|\n",
            "|           CK Nandan|           57|\n",
            "|         Nitin Menon|           57|\n",
            "|          SJA Taufel|           55|\n",
            "|           Asad Rauf|           51|\n",
            "|         VA Kulkarni|           50|\n",
            "|        BNJ Oxenford|           48|\n",
            "|         CB Gaffaney|           47|\n",
            "|           RJ Tucker|           46|\n",
            "|         BR Doctrove|           42|\n",
            "|         RE Koertzen|           41|\n",
            "|           Aleem Dar|           38|\n",
            "|           BF Bowden|           37|\n",
            "|            NJ Llong|           37|\n",
            "|KN Ananthapadmana...|           33|\n",
            "|      RK Illingworth|           31|\n",
            "+--------------------+-------------+\n",
            "only showing top 20 rows\n",
            "\n"
          ]
        }
      ],
      "execution_count": 58
    },
    {
      "cell_type": "markdown",
      "source": [
        "##### Question I:  \n",
        "Find venue details of the match where V Kohli scored his highest individual runs in\n",
        "IPL."
      ],
      "metadata": {
        "application/vnd.databricks.v1+cell": {
          "title": "",
          "showTitle": false,
          "inputWidgets": {},
          "nuid": "437cd7ed-f7fe-4971-a191-f93a1b85bff9"
        },
        "id": "sUyieucctkQ7"
      }
    },
    {
      "cell_type": "code",
      "source": [
        "spark.sql(\n",
        "\"\"\"\n",
        "select m.match_id, v.venue, v.city, sum(b.batsman_runs) TotalRuns from ipl_ball_by_ball as b\n",
        "inner join ipl_matches as m on b.match_id=m.match_id\n",
        "inner join ipl_venue as v on m.venue_id =v.venue_id\n",
        "where b.batsman= 'V Kohli'\n",
        "group by m.match_id, v.venue, v.city\n",
        "order by sum(b.batsman_runs) desc limit 1; \n",
        "\"\"\").show()"
      ],
      "metadata": {
        "application/vnd.databricks.v1+cell": {
          "title": "",
          "showTitle": false,
          "inputWidgets": {},
          "nuid": "9f6b712e-5b48-49e1-b342-bc9a2f1c8673"
        },
        "id": "iSKOF3YetkQ-",
        "outputId": "4287604b-77ab-4334-a74b-d0ed2e71c40d",
        "colab": {
          "base_uri": "https://localhost:8080/"
        }
      },
      "outputs": [
        {
          "output_type": "stream",
          "name": "stdout",
          "text": [
            "+--------+--------------------+---------+---------+\n",
            "|match_id|               venue|     city|TotalRuns|\n",
            "+--------+--------------------+---------+---------+\n",
            "|  980999|M.Chinnaswamy Sta...|Bengaluru|    113.0|\n",
            "+--------+--------------------+---------+---------+\n",
            "\n"
          ]
        }
      ],
      "execution_count": 59
    },
    {
      "cell_type": "markdown",
      "source": [
        "##### Question J: \n",
        "Please analyze how winning/losing tosses can impact a match and it's result?\n",
        "(Bonus for Visualization here)"
      ],
      "metadata": {
        "application/vnd.databricks.v1+cell": {
          "title": "",
          "showTitle": false,
          "inputWidgets": {},
          "nuid": "7dd177f0-1af2-4484-a4b1-647901a5e8fc"
        },
        "id": "JEYjaMVYtkRA"
      }
    },
    {
      "cell_type": "code",
      "source": [
        "import pyspark.sql.functions as F\n",
        "from pyspark.sql.functions import col\n",
        "\n",
        "# count data where match_winner = toss_winner\n",
        "team_wins_df = ipl_matches_df.filter(F.col('winner')==F.col('toss_winner')).groupBy('winner').agg(F.count('winner').alias('team_wins'))\n",
        "\n",
        "# count no of toss winner\n",
        "toss_wins_df = ipl_matches_df.groupBy('toss_winner').count().orderBy('toss_winner')\n",
        "#print(team_wins_df.show(2))\n",
        "#print(toss_wins_df.show(2))\n",
        "\n",
        "toss_wins_df = toss_wins_df.withColumnRenamed(\"toss_winner\", \"winner\").withColumnRenamed(\"count\", \"toss_wins\")\n",
        "\n",
        "# join the two dataframes (team_wins_df & toss_wins_df)\n",
        "team_toss_wins = team_wins_df.join(toss_wins_df.select('winner', 'toss_wins'), ['winner'])\n",
        "team_toss_wins = team_toss_wins.withColumnRenamed(\"winner\", \"teams\")\n"
      ],
      "metadata": {
        "application/vnd.databricks.v1+cell": {
          "title": "",
          "showTitle": false,
          "inputWidgets": {},
          "nuid": "ee79e6ce-2223-4ef3-b715-3cb39a844d1e"
        },
        "id": "Kd86JnXstkRA"
      },
      "outputs": [],
      "execution_count": 60
    },
    {
      "cell_type": "code",
      "source": [
        "# converting spark dataframes to pandas dataframe\n",
        "\n",
        "team_toss_wins = team_toss_wins.toPandas()"
      ],
      "metadata": {
        "application/vnd.databricks.v1+cell": {
          "title": "",
          "showTitle": false,
          "inputWidgets": {},
          "nuid": "383ce79b-b038-4ebc-8486-2f660b3e429e"
        },
        "id": "fxmdDaX8tkRC"
      },
      "outputs": [],
      "execution_count": 61
    },
    {
      "cell_type": "code",
      "source": [
        "# Graph with respect to match wins vs toss wins\n",
        "\n",
        "team_toss_wins = team_toss_wins.sort_values(by=['team_wins', 'toss_wins'], ascending = False)\n",
        "team_toss_wins.plot(x=\"teams\", y=[\"team_wins\", \"toss_wins\"], kind=\"bar\", title = \"Team & Toss Wins\")"
      ],
      "metadata": {
        "application/vnd.databricks.v1+cell": {
          "title": "",
          "showTitle": false,
          "inputWidgets": {},
          "nuid": "4a015bdf-ff16-4dbf-89f5-a53760f2e0ef"
        },
        "id": "54ONkzNetkRD",
        "outputId": "209cd338-0ed7-4e79-b81a-ceb323913e38",
        "colab": {
          "base_uri": "https://localhost:8080/",
          "height": 448
        }
      },
      "outputs": [
        {
          "output_type": "execute_result",
          "data": {
            "text/plain": [
              "<matplotlib.axes._subplots.AxesSubplot at 0x7f57ce70ff50>"
            ]
          },
          "metadata": {},
          "execution_count": 62
        },
        {
          "output_type": "display_data",
          "data": {
            "text/plain": [
              "<Figure size 432x288 with 1 Axes>"
            ],
            "image/png": "[encoded data removed]"
          },
          "metadata": {
            "needs_background": "light"
          }
        }
      ],
      "execution_count": 62
    },
    {
      "cell_type": "code",
      "source": [
        "win_count = 0\n",
        "for value in ipl_matches_df.collect():\n",
        "    if(value['toss_winner']==value['winner']):\n",
        "        win_count += 1\n",
        "print(f'The number of times the team winning toss have won: {win_count}')\n",
        "prob = win_count/(ipl_matches_df.count())\n",
        "print('The probability of winning if won the toss: {:.2f}' .format(prob))"
      ],
      "metadata": {
        "application/vnd.databricks.v1+cell": {
          "title": "",
          "showTitle": false,
          "inputWidgets": {},
          "nuid": "0ef26d18-b399-47ab-af33-42c6b595adb6"
        },
        "id": "N-OeQB_4tkRE",
        "outputId": "f8beaffb-65bd-41d9-c10e-863063da7066",
        "colab": {
          "base_uri": "https://localhost:8080/"
        }
      },
      "outputs": [
        {
          "output_type": "stream",
          "name": "stdout",
          "text": [
            "The number of times the team winning toss have won: 418\n",
            "The probability of winning if won the toss: 0.51\n"
          ]
        }
      ],
      "execution_count": 63
    },
    {
      "cell_type": "markdown",
      "source": [
        "From the analysis we can say that :<br>\n",
        "1. The team with highest no. of toss wins has mostly won the match most of the times.<br>\n",
        "2. A team will have ***51%*** chance of winnning the match if it wins the toss"
      ],
      "metadata": {
        "application/vnd.databricks.v1+cell": {
          "title": "",
          "showTitle": false,
          "inputWidgets": {},
          "nuid": "0fe2d18f-ad18-4aaa-923d-a29e71ed1115"
        },
        "id": "44Nxh9KatkRF"
      }
    },
    {
      "cell_type": "markdown",
      "source": [
        "### Section 03: Expose Data"
      ],
      "metadata": {
        "application/vnd.databricks.v1+cell": {
          "title": "",
          "showTitle": false,
          "inputWidgets": {},
          "nuid": "48b4b4ca-d0c6-4844-b7a6-d1985364feb6"
        },
        "id": "S5Hk2M5WtkRG"
      }
    },
    {
      "cell_type": "code",
      "source": [
        "import sqlite3\n",
        "import pandas as pd\n",
        "\n",
        "# creating sqlite3 database\n",
        "con = sqlite3.connect('iplmatches.db')"
      ],
      "metadata": {
        "application/vnd.databricks.v1+cell": {
          "title": "",
          "showTitle": false,
          "inputWidgets": {},
          "nuid": "1a83bb9d-bb14-47c9-b686-ed118cdcc0f9"
        },
        "id": "S5kU9bFttkRG"
      },
      "outputs": [],
      "execution_count": 75
    },
    {
      "cell_type": "code",
      "source": [
        "# load data\n",
        "\n",
        "df = pd.read_csv('/content/ipl_ball_by_ball.csv')\n",
        "\n",
        "# strip whitespace from headers\n",
        "df.columns = df.columns.str.strip()\n",
        "\n",
        "# drop data into database\n",
        "df.to_sql(\"ipl_ball_by_ball\", con)"
      ],
      "metadata": {
        "application/vnd.databricks.v1+cell": {
          "title": "",
          "showTitle": false,
          "inputWidgets": {},
          "nuid": "c3542d3f-224e-4cb0-abca-c5fd71771171"
        },
        "id": "YrAqZr6_tkRH",
        "outputId": "f6288744-eccc-4b99-ecc8-8eadb45740f1",
        "colab": {
          "base_uri": "https://localhost:8080/",
          "height": 369
        }
      },
      "outputs": [
        {
          "output_type": "error",
          "ename": "ValueError",
          "evalue": "ignored",
          "traceback": [
            "\u001b[0;31m---------------------------------------------------------------------------\u001b[0m",
            "\u001b[0;31mValueError\u001b[0m                                Traceback (most recent call last)",
            "\u001b[0;32m<ipython-input-76-25a2aac9bdbd>\u001b[0m in \u001b[0;36m<module>\u001b[0;34m()\u001b[0m\n\u001b[1;32m      7\u001b[0m \u001b[0;34m\u001b[0m\u001b[0m\n\u001b[1;32m      8\u001b[0m \u001b[0;31m# drop data into database\u001b[0m\u001b[0;34m\u001b[0m\u001b[0;34m\u001b[0m\u001b[0;34m\u001b[0m\u001b[0m\n\u001b[0;32m----> 9\u001b[0;31m \u001b[0mdf\u001b[0m\u001b[0;34m.\u001b[0m\u001b[0mto_sql\u001b[0m\u001b[0;34m(\u001b[0m\u001b[0;34m\"ipl_ball_by_ball\"\u001b[0m\u001b[0;34m,\u001b[0m \u001b[0mcon\u001b[0m\u001b[0;34m)\u001b[0m\u001b[0;34m\u001b[0m\u001b[0;34m\u001b[0m\u001b[0m\n\u001b[0m",
            "\u001b[0;32m/usr/local/lib/python3.7/dist-packages/pandas/core/generic.py\u001b[0m in \u001b[0;36mto_sql\u001b[0;34m(self, name, con, schema, if_exists, index, index_label, chunksize, dtype, method)\u001b[0m\n\u001b[1;32m   2880\u001b[0m             \u001b[0mchunksize\u001b[0m\u001b[0;34m=\u001b[0m\u001b[0mchunksize\u001b[0m\u001b[0;34m,\u001b[0m\u001b[0;34m\u001b[0m\u001b[0;34m\u001b[0m\u001b[0m\n\u001b[1;32m   2881\u001b[0m             \u001b[0mdtype\u001b[0m\u001b[0;34m=\u001b[0m\u001b[0mdtype\u001b[0m\u001b[0;34m,\u001b[0m\u001b[0;34m\u001b[0m\u001b[0;34m\u001b[0m\u001b[0m\n\u001b[0;32m-> 2882\u001b[0;31m             \u001b[0mmethod\u001b[0m\u001b[0;34m=\u001b[0m\u001b[0mmethod\u001b[0m\u001b[0;34m,\u001b[0m\u001b[0;34m\u001b[0m\u001b[0;34m\u001b[0m\u001b[0m\n\u001b[0m\u001b[1;32m   2883\u001b[0m         )\n\u001b[1;32m   2884\u001b[0m \u001b[0;34m\u001b[0m\u001b[0m\n",
            "\u001b[0;32m/usr/local/lib/python3.7/dist-packages/pandas/io/sql.py\u001b[0m in \u001b[0;36mto_sql\u001b[0;34m(frame, name, con, schema, if_exists, index, index_label, chunksize, dtype, method, engine, **engine_kwargs)\u001b[0m\n\u001b[1;32m    726\u001b[0m         \u001b[0mmethod\u001b[0m\u001b[0;34m=\u001b[0m\u001b[0mmethod\u001b[0m\u001b[0;34m,\u001b[0m\u001b[0;34m\u001b[0m\u001b[0;34m\u001b[0m\u001b[0m\n\u001b[1;32m    727\u001b[0m         \u001b[0mengine\u001b[0m\u001b[0;34m=\u001b[0m\u001b[0mengine\u001b[0m\u001b[0;34m,\u001b[0m\u001b[0;34m\u001b[0m\u001b[0;34m\u001b[0m\u001b[0m\n\u001b[0;32m--> 728\u001b[0;31m         \u001b[0;34m**\u001b[0m\u001b[0mengine_kwargs\u001b[0m\u001b[0;34m,\u001b[0m\u001b[0;34m\u001b[0m\u001b[0;34m\u001b[0m\u001b[0m\n\u001b[0m\u001b[1;32m    729\u001b[0m     )\n\u001b[1;32m    730\u001b[0m \u001b[0;34m\u001b[0m\u001b[0m\n",
            "\u001b[0;32m/usr/local/lib/python3.7/dist-packages/pandas/io/sql.py\u001b[0m in \u001b[0;36mto_sql\u001b[0;34m(self, frame, name, if_exists, index, index_label, schema, chunksize, dtype, method, **kwargs)\u001b[0m\n\u001b[1;32m   2223\u001b[0m             \u001b[0mdtype\u001b[0m\u001b[0;34m=\u001b[0m\u001b[0mdtype\u001b[0m\u001b[0;34m,\u001b[0m\u001b[0;34m\u001b[0m\u001b[0;34m\u001b[0m\u001b[0m\n\u001b[1;32m   2224\u001b[0m         )\n\u001b[0;32m-> 2225\u001b[0;31m         \u001b[0mtable\u001b[0m\u001b[0;34m.\u001b[0m\u001b[0mcreate\u001b[0m\u001b[0;34m(\u001b[0m\u001b[0;34m)\u001b[0m\u001b[0;34m\u001b[0m\u001b[0;34m\u001b[0m\u001b[0m\n\u001b[0m\u001b[1;32m   2226\u001b[0m         \u001b[0mtable\u001b[0m\u001b[0;34m.\u001b[0m\u001b[0minsert\u001b[0m\u001b[0;34m(\u001b[0m\u001b[0mchunksize\u001b[0m\u001b[0;34m,\u001b[0m \u001b[0mmethod\u001b[0m\u001b[0;34m)\u001b[0m\u001b[0;34m\u001b[0m\u001b[0;34m\u001b[0m\u001b[0m\n\u001b[1;32m   2227\u001b[0m \u001b[0;34m\u001b[0m\u001b[0m\n",
            "\u001b[0;32m/usr/local/lib/python3.7/dist-packages/pandas/io/sql.py\u001b[0m in \u001b[0;36mcreate\u001b[0;34m(self)\u001b[0m\n\u001b[1;32m    856\u001b[0m         \u001b[0;32mif\u001b[0m \u001b[0mself\u001b[0m\u001b[0;34m.\u001b[0m\u001b[0mexists\u001b[0m\u001b[0;34m(\u001b[0m\u001b[0;34m)\u001b[0m\u001b[0;34m:\u001b[0m\u001b[0;34m\u001b[0m\u001b[0;34m\u001b[0m\u001b[0m\n\u001b[1;32m    857\u001b[0m             \u001b[0;32mif\u001b[0m \u001b[0mself\u001b[0m\u001b[0;34m.\u001b[0m\u001b[0mif_exists\u001b[0m \u001b[0;34m==\u001b[0m \u001b[0;34m\"fail\"\u001b[0m\u001b[0;34m:\u001b[0m\u001b[0;34m\u001b[0m\u001b[0;34m\u001b[0m\u001b[0m\n\u001b[0;32m--> 858\u001b[0;31m                 \u001b[0;32mraise\u001b[0m \u001b[0mValueError\u001b[0m\u001b[0;34m(\u001b[0m\u001b[0;34mf\"Table '{self.name}' already exists.\"\u001b[0m\u001b[0;34m)\u001b[0m\u001b[0;34m\u001b[0m\u001b[0;34m\u001b[0m\u001b[0m\n\u001b[0m\u001b[1;32m    859\u001b[0m             \u001b[0;32melif\u001b[0m \u001b[0mself\u001b[0m\u001b[0;34m.\u001b[0m\u001b[0mif_exists\u001b[0m \u001b[0;34m==\u001b[0m \u001b[0;34m\"replace\"\u001b[0m\u001b[0;34m:\u001b[0m\u001b[0;34m\u001b[0m\u001b[0;34m\u001b[0m\u001b[0m\n\u001b[1;32m    860\u001b[0m                 \u001b[0mself\u001b[0m\u001b[0;34m.\u001b[0m\u001b[0mpd_sql\u001b[0m\u001b[0;34m.\u001b[0m\u001b[0mdrop_table\u001b[0m\u001b[0;34m(\u001b[0m\u001b[0mself\u001b[0m\u001b[0;34m.\u001b[0m\u001b[0mname\u001b[0m\u001b[0;34m,\u001b[0m \u001b[0mself\u001b[0m\u001b[0;34m.\u001b[0m\u001b[0mschema\u001b[0m\u001b[0;34m)\u001b[0m\u001b[0;34m\u001b[0m\u001b[0;34m\u001b[0m\u001b[0m\n",
            "\u001b[0;31mValueError\u001b[0m: Table 'ipl_ball_by_ball' already exists."
          ]
        }
      ],
      "execution_count": 76
    },
    {
      "cell_type": "code",
      "source": [
        "# load data\n",
        "df = pd.read_csv('/content/ipl_venue.csv')\n",
        "\n",
        "# strip whitespace from headers\n",
        "df.columns = df.columns.str.strip()\n",
        "\n",
        "# drop data into database\n",
        "df.to_sql(\"ipl_venue\", con)"
      ],
      "metadata": {
        "application/vnd.databricks.v1+cell": {
          "title": "",
          "showTitle": false,
          "inputWidgets": {},
          "nuid": "ad18dbf7-7dd2-4925-98da-f501583cd929"
        },
        "id": "GGILlJg8tkRI",
        "outputId": "b278464a-0e9e-4727-cdbc-f1ac0086429c",
        "colab": {
          "base_uri": "https://localhost:8080/",
          "height": 369
        }
      },
      "outputs": [
        {
          "output_type": "error",
          "ename": "ValueError",
          "evalue": "ignored",
          "traceback": [
            "\u001b[0;31m---------------------------------------------------------------------------\u001b[0m",
            "\u001b[0;31mValueError\u001b[0m                                Traceback (most recent call last)",
            "\u001b[0;32m<ipython-input-77-f2fe48167633>\u001b[0m in \u001b[0;36m<module>\u001b[0;34m()\u001b[0m\n\u001b[1;32m      6\u001b[0m \u001b[0;34m\u001b[0m\u001b[0m\n\u001b[1;32m      7\u001b[0m \u001b[0;31m# drop data into database\u001b[0m\u001b[0;34m\u001b[0m\u001b[0;34m\u001b[0m\u001b[0;34m\u001b[0m\u001b[0m\n\u001b[0;32m----> 8\u001b[0;31m \u001b[0mdf\u001b[0m\u001b[0;34m.\u001b[0m\u001b[0mto_sql\u001b[0m\u001b[0;34m(\u001b[0m\u001b[0;34m\"ipl_venue\"\u001b[0m\u001b[0;34m,\u001b[0m \u001b[0mcon\u001b[0m\u001b[0;34m)\u001b[0m\u001b[0;34m\u001b[0m\u001b[0;34m\u001b[0m\u001b[0m\n\u001b[0m",
            "\u001b[0;32m/usr/local/lib/python3.7/dist-packages/pandas/core/generic.py\u001b[0m in \u001b[0;36mto_sql\u001b[0;34m(self, name, con, schema, if_exists, index, index_label, chunksize, dtype, method)\u001b[0m\n\u001b[1;32m   2880\u001b[0m             \u001b[0mchunksize\u001b[0m\u001b[0;34m=\u001b[0m\u001b[0mchunksize\u001b[0m\u001b[0;34m,\u001b[0m\u001b[0;34m\u001b[0m\u001b[0;34m\u001b[0m\u001b[0m\n\u001b[1;32m   2881\u001b[0m             \u001b[0mdtype\u001b[0m\u001b[0;34m=\u001b[0m\u001b[0mdtype\u001b[0m\u001b[0;34m,\u001b[0m\u001b[0;34m\u001b[0m\u001b[0;34m\u001b[0m\u001b[0m\n\u001b[0;32m-> 2882\u001b[0;31m             \u001b[0mmethod\u001b[0m\u001b[0;34m=\u001b[0m\u001b[0mmethod\u001b[0m\u001b[0;34m,\u001b[0m\u001b[0;34m\u001b[0m\u001b[0;34m\u001b[0m\u001b[0m\n\u001b[0m\u001b[1;32m   2883\u001b[0m         )\n\u001b[1;32m   2884\u001b[0m \u001b[0;34m\u001b[0m\u001b[0m\n",
            "\u001b[0;32m/usr/local/lib/python3.7/dist-packages/pandas/io/sql.py\u001b[0m in \u001b[0;36mto_sql\u001b[0;34m(frame, name, con, schema, if_exists, index, index_label, chunksize, dtype, method, engine, **engine_kwargs)\u001b[0m\n\u001b[1;32m    726\u001b[0m         \u001b[0mmethod\u001b[0m\u001b[0;34m=\u001b[0m\u001b[0mmethod\u001b[0m\u001b[0;34m,\u001b[0m\u001b[0;34m\u001b[0m\u001b[0;34m\u001b[0m\u001b[0m\n\u001b[1;32m    727\u001b[0m         \u001b[0mengine\u001b[0m\u001b[0;34m=\u001b[0m\u001b[0mengine\u001b[0m\u001b[0;34m,\u001b[0m\u001b[0;34m\u001b[0m\u001b[0;34m\u001b[0m\u001b[0m\n\u001b[0;32m--> 728\u001b[0;31m         \u001b[0;34m**\u001b[0m\u001b[0mengine_kwargs\u001b[0m\u001b[0;34m,\u001b[0m\u001b[0;34m\u001b[0m\u001b[0;34m\u001b[0m\u001b[0m\n\u001b[0m\u001b[1;32m    729\u001b[0m     )\n\u001b[1;32m    730\u001b[0m \u001b[0;34m\u001b[0m\u001b[0m\n",
            "\u001b[0;32m/usr/local/lib/python3.7/dist-packages/pandas/io/sql.py\u001b[0m in \u001b[0;36mto_sql\u001b[0;34m(self, frame, name, if_exists, index, index_label, schema, chunksize, dtype, method, **kwargs)\u001b[0m\n\u001b[1;32m   2223\u001b[0m             \u001b[0mdtype\u001b[0m\u001b[0;34m=\u001b[0m\u001b[0mdtype\u001b[0m\u001b[0;34m,\u001b[0m\u001b[0;34m\u001b[0m\u001b[0;34m\u001b[0m\u001b[0m\n\u001b[1;32m   2224\u001b[0m         )\n\u001b[0;32m-> 2225\u001b[0;31m         \u001b[0mtable\u001b[0m\u001b[0;34m.\u001b[0m\u001b[0mcreate\u001b[0m\u001b[0;34m(\u001b[0m\u001b[0;34m)\u001b[0m\u001b[0;34m\u001b[0m\u001b[0;34m\u001b[0m\u001b[0m\n\u001b[0m\u001b[1;32m   2226\u001b[0m         \u001b[0mtable\u001b[0m\u001b[0;34m.\u001b[0m\u001b[0minsert\u001b[0m\u001b[0;34m(\u001b[0m\u001b[0mchunksize\u001b[0m\u001b[0;34m,\u001b[0m \u001b[0mmethod\u001b[0m\u001b[0;34m)\u001b[0m\u001b[0;34m\u001b[0m\u001b[0;34m\u001b[0m\u001b[0m\n\u001b[1;32m   2227\u001b[0m \u001b[0;34m\u001b[0m\u001b[0m\n",
            "\u001b[0;32m/usr/local/lib/python3.7/dist-packages/pandas/io/sql.py\u001b[0m in \u001b[0;36mcreate\u001b[0;34m(self)\u001b[0m\n\u001b[1;32m    856\u001b[0m         \u001b[0;32mif\u001b[0m \u001b[0mself\u001b[0m\u001b[0;34m.\u001b[0m\u001b[0mexists\u001b[0m\u001b[0;34m(\u001b[0m\u001b[0;34m)\u001b[0m\u001b[0;34m:\u001b[0m\u001b[0;34m\u001b[0m\u001b[0;34m\u001b[0m\u001b[0m\n\u001b[1;32m    857\u001b[0m             \u001b[0;32mif\u001b[0m \u001b[0mself\u001b[0m\u001b[0;34m.\u001b[0m\u001b[0mif_exists\u001b[0m \u001b[0;34m==\u001b[0m \u001b[0;34m\"fail\"\u001b[0m\u001b[0;34m:\u001b[0m\u001b[0;34m\u001b[0m\u001b[0;34m\u001b[0m\u001b[0m\n\u001b[0;32m--> 858\u001b[0;31m                 \u001b[0;32mraise\u001b[0m \u001b[0mValueError\u001b[0m\u001b[0;34m(\u001b[0m\u001b[0;34mf\"Table '{self.name}' already exists.\"\u001b[0m\u001b[0;34m)\u001b[0m\u001b[0;34m\u001b[0m\u001b[0;34m\u001b[0m\u001b[0m\n\u001b[0m\u001b[1;32m    859\u001b[0m             \u001b[0;32melif\u001b[0m \u001b[0mself\u001b[0m\u001b[0;34m.\u001b[0m\u001b[0mif_exists\u001b[0m \u001b[0;34m==\u001b[0m \u001b[0;34m\"replace\"\u001b[0m\u001b[0;34m:\u001b[0m\u001b[0;34m\u001b[0m\u001b[0;34m\u001b[0m\u001b[0m\n\u001b[1;32m    860\u001b[0m                 \u001b[0mself\u001b[0m\u001b[0;34m.\u001b[0m\u001b[0mpd_sql\u001b[0m\u001b[0;34m.\u001b[0m\u001b[0mdrop_table\u001b[0m\u001b[0;34m(\u001b[0m\u001b[0mself\u001b[0m\u001b[0;34m.\u001b[0m\u001b[0mname\u001b[0m\u001b[0;34m,\u001b[0m \u001b[0mself\u001b[0m\u001b[0;34m.\u001b[0m\u001b[0mschema\u001b[0m\u001b[0;34m)\u001b[0m\u001b[0;34m\u001b[0m\u001b[0;34m\u001b[0m\u001b[0m\n",
            "\u001b[0;31mValueError\u001b[0m: Table 'ipl_venue' already exists."
          ]
        }
      ],
      "execution_count": 77
    },
    {
      "cell_type": "code",
      "source": [
        "# load data\n",
        "df = pd.read_csv('/content/ipl_matches.csv')\n",
        "\n",
        "# strip whitespace from headers\n",
        "df.columns = df.columns.str.strip()\n",
        "\n",
        "# drop data into database\n",
        "df.to_sql(\"ipl_matches\", con)"
      ],
      "metadata": {
        "application/vnd.databricks.v1+cell": {
          "title": "",
          "showTitle": false,
          "inputWidgets": {},
          "nuid": "bf2b7989-fcd2-48d1-a73c-8ae774234633"
        },
        "id": "TO-oKkd9tkRJ",
        "outputId": "d9f355a3-9eaf-400f-90fa-47f8cb17b99d",
        "colab": {
          "base_uri": "https://localhost:8080/",
          "height": 369
        }
      },
      "outputs": [
        {
          "output_type": "error",
          "ename": "ValueError",
          "evalue": "ignored",
          "traceback": [
            "\u001b[0;31m---------------------------------------------------------------------------\u001b[0m",
            "\u001b[0;31mValueError\u001b[0m                                Traceback (most recent call last)",
            "\u001b[0;32m<ipython-input-78-962b3091bb65>\u001b[0m in \u001b[0;36m<module>\u001b[0;34m()\u001b[0m\n\u001b[1;32m      6\u001b[0m \u001b[0;34m\u001b[0m\u001b[0m\n\u001b[1;32m      7\u001b[0m \u001b[0;31m# drop data into database\u001b[0m\u001b[0;34m\u001b[0m\u001b[0;34m\u001b[0m\u001b[0;34m\u001b[0m\u001b[0m\n\u001b[0;32m----> 8\u001b[0;31m \u001b[0mdf\u001b[0m\u001b[0;34m.\u001b[0m\u001b[0mto_sql\u001b[0m\u001b[0;34m(\u001b[0m\u001b[0;34m\"ipl_matches\"\u001b[0m\u001b[0;34m,\u001b[0m \u001b[0mcon\u001b[0m\u001b[0;34m)\u001b[0m\u001b[0;34m\u001b[0m\u001b[0;34m\u001b[0m\u001b[0m\n\u001b[0m",
            "\u001b[0;32m/usr/local/lib/python3.7/dist-packages/pandas/core/generic.py\u001b[0m in \u001b[0;36mto_sql\u001b[0;34m(self, name, con, schema, if_exists, index, index_label, chunksize, dtype, method)\u001b[0m\n\u001b[1;32m   2880\u001b[0m             \u001b[0mchunksize\u001b[0m\u001b[0;34m=\u001b[0m\u001b[0mchunksize\u001b[0m\u001b[0;34m,\u001b[0m\u001b[0;34m\u001b[0m\u001b[0;34m\u001b[0m\u001b[0m\n\u001b[1;32m   2881\u001b[0m             \u001b[0mdtype\u001b[0m\u001b[0;34m=\u001b[0m\u001b[0mdtype\u001b[0m\u001b[0;34m,\u001b[0m\u001b[0;34m\u001b[0m\u001b[0;34m\u001b[0m\u001b[0m\n\u001b[0;32m-> 2882\u001b[0;31m             \u001b[0mmethod\u001b[0m\u001b[0;34m=\u001b[0m\u001b[0mmethod\u001b[0m\u001b[0;34m,\u001b[0m\u001b[0;34m\u001b[0m\u001b[0;34m\u001b[0m\u001b[0m\n\u001b[0m\u001b[1;32m   2883\u001b[0m         )\n\u001b[1;32m   2884\u001b[0m \u001b[0;34m\u001b[0m\u001b[0m\n",
            "\u001b[0;32m/usr/local/lib/python3.7/dist-packages/pandas/io/sql.py\u001b[0m in \u001b[0;36mto_sql\u001b[0;34m(frame, name, con, schema, if_exists, index, index_label, chunksize, dtype, method, engine, **engine_kwargs)\u001b[0m\n\u001b[1;32m    726\u001b[0m         \u001b[0mmethod\u001b[0m\u001b[0;34m=\u001b[0m\u001b[0mmethod\u001b[0m\u001b[0;34m,\u001b[0m\u001b[0;34m\u001b[0m\u001b[0;34m\u001b[0m\u001b[0m\n\u001b[1;32m    727\u001b[0m         \u001b[0mengine\u001b[0m\u001b[0;34m=\u001b[0m\u001b[0mengine\u001b[0m\u001b[0;34m,\u001b[0m\u001b[0;34m\u001b[0m\u001b[0;34m\u001b[0m\u001b[0m\n\u001b[0;32m--> 728\u001b[0;31m         \u001b[0;34m**\u001b[0m\u001b[0mengine_kwargs\u001b[0m\u001b[0;34m,\u001b[0m\u001b[0;34m\u001b[0m\u001b[0;34m\u001b[0m\u001b[0m\n\u001b[0m\u001b[1;32m    729\u001b[0m     )\n\u001b[1;32m    730\u001b[0m \u001b[0;34m\u001b[0m\u001b[0m\n",
            "\u001b[0;32m/usr/local/lib/python3.7/dist-packages/pandas/io/sql.py\u001b[0m in \u001b[0;36mto_sql\u001b[0;34m(self, frame, name, if_exists, index, index_label, schema, chunksize, dtype, method, **kwargs)\u001b[0m\n\u001b[1;32m   2223\u001b[0m             \u001b[0mdtype\u001b[0m\u001b[0;34m=\u001b[0m\u001b[0mdtype\u001b[0m\u001b[0;34m,\u001b[0m\u001b[0;34m\u001b[0m\u001b[0;34m\u001b[0m\u001b[0m\n\u001b[1;32m   2224\u001b[0m         )\n\u001b[0;32m-> 2225\u001b[0;31m         \u001b[0mtable\u001b[0m\u001b[0;34m.\u001b[0m\u001b[0mcreate\u001b[0m\u001b[0;34m(\u001b[0m\u001b[0;34m)\u001b[0m\u001b[0;34m\u001b[0m\u001b[0;34m\u001b[0m\u001b[0m\n\u001b[0m\u001b[1;32m   2226\u001b[0m         \u001b[0mtable\u001b[0m\u001b[0;34m.\u001b[0m\u001b[0minsert\u001b[0m\u001b[0;34m(\u001b[0m\u001b[0mchunksize\u001b[0m\u001b[0;34m,\u001b[0m \u001b[0mmethod\u001b[0m\u001b[0;34m)\u001b[0m\u001b[0;34m\u001b[0m\u001b[0;34m\u001b[0m\u001b[0m\n\u001b[1;32m   2227\u001b[0m \u001b[0;34m\u001b[0m\u001b[0m\n",
            "\u001b[0;32m/usr/local/lib/python3.7/dist-packages/pandas/io/sql.py\u001b[0m in \u001b[0;36mcreate\u001b[0;34m(self)\u001b[0m\n\u001b[1;32m    856\u001b[0m         \u001b[0;32mif\u001b[0m \u001b[0mself\u001b[0m\u001b[0;34m.\u001b[0m\u001b[0mexists\u001b[0m\u001b[0;34m(\u001b[0m\u001b[0;34m)\u001b[0m\u001b[0;34m:\u001b[0m\u001b[0;34m\u001b[0m\u001b[0;34m\u001b[0m\u001b[0m\n\u001b[1;32m    857\u001b[0m             \u001b[0;32mif\u001b[0m \u001b[0mself\u001b[0m\u001b[0;34m.\u001b[0m\u001b[0mif_exists\u001b[0m \u001b[0;34m==\u001b[0m \u001b[0;34m\"fail\"\u001b[0m\u001b[0;34m:\u001b[0m\u001b[0;34m\u001b[0m\u001b[0;34m\u001b[0m\u001b[0m\n\u001b[0;32m--> 858\u001b[0;31m                 \u001b[0;32mraise\u001b[0m \u001b[0mValueError\u001b[0m\u001b[0;34m(\u001b[0m\u001b[0;34mf\"Table '{self.name}' already exists.\"\u001b[0m\u001b[0;34m)\u001b[0m\u001b[0;34m\u001b[0m\u001b[0;34m\u001b[0m\u001b[0m\n\u001b[0m\u001b[1;32m    859\u001b[0m             \u001b[0;32melif\u001b[0m \u001b[0mself\u001b[0m\u001b[0;34m.\u001b[0m\u001b[0mif_exists\u001b[0m \u001b[0;34m==\u001b[0m \u001b[0;34m\"replace\"\u001b[0m\u001b[0;34m:\u001b[0m\u001b[0;34m\u001b[0m\u001b[0;34m\u001b[0m\u001b[0m\n\u001b[1;32m    860\u001b[0m                 \u001b[0mself\u001b[0m\u001b[0;34m.\u001b[0m\u001b[0mpd_sql\u001b[0m\u001b[0;34m.\u001b[0m\u001b[0mdrop_table\u001b[0m\u001b[0;34m(\u001b[0m\u001b[0mself\u001b[0m\u001b[0;34m.\u001b[0m\u001b[0mname\u001b[0m\u001b[0;34m,\u001b[0m \u001b[0mself\u001b[0m\u001b[0;34m.\u001b[0m\u001b[0mschema\u001b[0m\u001b[0;34m)\u001b[0m\u001b[0;34m\u001b[0m\u001b[0;34m\u001b[0m\u001b[0m\n",
            "\u001b[0;31mValueError\u001b[0m: Table 'ipl_matches' already exists."
          ]
        }
      ],
      "execution_count": 78
    },
    {
      "cell_type": "code",
      "source": [
        "class Database:\n",
        "    # constructor \n",
        "    def __init__(self):\n",
        "        self.db_name = \"iplmatches.db\"\n",
        "        \n",
        "    def get_conn(self):\n",
        "        try:\n",
        "            con = sqlite3.connect(self.db_name)\n",
        "            print(\"Database connected successfully\")\n",
        "            return con\n",
        "        except:\n",
        "            print(\"Unable to connect data base\")\n",
        "            \n",
        "    def get_status(self,con):\n",
        "        try:\n",
        "            con.cursor()\n",
        "            print(\"Database is connected\")\n",
        "        except Exception as ex:\n",
        "            print(\"Database is not connected\")\n",
        "            \n",
        "    def close_conn(self,con):\n",
        "        try:\n",
        "            con.close()\n",
        "            print(\"Database connection closed successfully\")\n",
        "        except:\n",
        "            print(\"Unable to close Database connection\")\n",
        "            \n",
        "    # Question(A)\n",
        "    def get_query1_result(self,con):\n",
        "        cur = con.execute(\"\"\"select v.venue, count(v.venue_id) venue_count from ipl_matches m \n",
        "                         join ipl_venue v on m.venue_id=v.venue_id\n",
        "                        where m.eliminator = 'Y'\n",
        "                        group by v.venue\n",
        "                        order by venue_count desc\n",
        "                            limit 3;\"\"\")\n",
        "        desc = cur.description\n",
        "        column_names = [col[0] for col in desc]\n",
        "        data = [dict(zip(column_names, row))  \n",
        "        for row in cur.fetchall()]\n",
        "        return data\n",
        "      \n",
        "    # Question (B)\n",
        "    def get_query2_result(self, con):\n",
        "        cur = con.execute(\"\"\"select fielder, count(dismissal_kind) NoOfCatches from ipl_ball_by_ball\n",
        "                           where dismissal_kind = \"caught\"\n",
        "                           group by fielder\n",
        "                           order by NoOfCatches desc\n",
        "                           limit 1;\"\"\")\n",
        "        desc = cur.description\n",
        "        column_names = [col[0] for col in desc]\n",
        "        data = [dict(zip(column_names, row))  \n",
        "        for row in cur.fetchall()]\n",
        "        return data\n",
        "    \n",
        "    # Question (C)\n",
        "    def get_query3_result(self, con):\n",
        "        cur=con.execute(\"\"\"select m.match_id, bbb.bowler, count(bbb.bowler) NoOfWickets from ipl_ball_by_ball bbb\n",
        "                           join ipl_matches m on m.match_id = bbb.match_id\n",
        "                           where m.method = \"D/L\" and is_wicket = 1\n",
        "                           group by m.match_id, bbb.bowler\n",
        "                           order by NoOfWickets desc;\"\"\")\n",
        "        desc = cur.description\n",
        "        column_names = [col[0] for col in desc]\n",
        "        data = [dict(zip(column_names, row))  \n",
        "        for row in cur.fetchall()]\n",
        "        return data\n",
        "    \n",
        "    # Question (D)\n",
        "    def get_query4_result(self, con):\n",
        "        cur=con.execute(\"\"\"select batsman, (sum(batsman_runs)/count(ball)*100) as strikeRate from ipl_ball_by_ball\n",
        "                           where (extras_type not in (\"wides\",\"noballs\")) \n",
        "                           and (overs >= 7 and overs <= 20)\n",
        "                           group by batsman\n",
        "                           order by strikeRate desc;\"\"\")\n",
        "\n",
        "        desc = cur.description\n",
        "        column_names = [col[0] for col in desc]\n",
        "        data = [dict(zip(column_names, row))  \n",
        "        for row in cur.fetchall()]\n",
        "        return data\n",
        "    \n",
        "    # Question (E)\n",
        "    def get_query5_result(self, con):\n",
        "        cur=con.execute(\"\"\"select v.venue, v.city, sum(bbb.extra_runs) extra_runs from ipl_ball_by_ball bbb\n",
        "                           inner join ipl_matches as m on bbb.match_id=m.match_id\n",
        "                           inner join ipl_venue as v on m.venue_id =v.venue_id\n",
        "                           group by venue, v.city\n",
        "                           order by extra_runs desc;\"\"\")\n",
        "        desc = cur.description\n",
        "        column_names = [col[0] for col in desc]\n",
        "        data = [dict(zip(column_names, row))  \n",
        "        for row in cur.fetchall()]\n",
        "        return data\n",
        "    \n",
        "    # Question (F)\n",
        "    def get_query6_result(self, con):\n",
        "        cur=con.execute(\"\"\"select m.player_of_match, count(m.player_of_match) from ipl_matches m\n",
        "                           join ipl_venue v on m.venue_id = v.venue_id\n",
        "                           where neutral_venue = 1\n",
        "                           group by m.player_of_match\n",
        "                           order by count(m.player_of_match) desc;\"\"\")\n",
        "        desc = cur.description\n",
        "        column_names = [col[0] for col in desc]\n",
        "        data = [dict(zip(column_names, row))  \n",
        "        for row in cur.fetchall()]\n",
        "        return data\n",
        "    \n",
        "    # Question (H)\n",
        "    def get_query7_result(self, con):\n",
        "        cur = con.execute(\"\"\"select umpire, count(*) as umpire_count from\n",
        "                               (select umpire1 as umpire from ipl_matches union all\n",
        "                                 select umpire2 from ipl_matches) ipl_matches\n",
        "                                    group by ipl_matches.umpire\n",
        "                                    order by count(*) desc\"\"\")\n",
        "        desc = cur.description\n",
        "        column_names = [col[0] for col in desc]\n",
        "        data = [dict(zip(column_names, row))  \n",
        "        for row in cur.fetchall()]\n",
        "        return data\n",
        "    \n",
        "    # Question (I)\n",
        "    def get_query8_result(self, con):\n",
        "        cur= con.execute(\"\"\"select m.match_id, v.venue, v.city, sum(b.batsman_runs) TotalRuns from ipl_ball_by_ball as b\n",
        "                            inner join ipl_matches as m on b.match_id=m.match_id\n",
        "                            inner join ipl_venue as v on m.venue_id =v.venue_id\n",
        "                            where b.batsman= 'V Kohli'\n",
        "                            group by m.match_id, v.venue, v.city\n",
        "                            order by sum(b.batsman_runs) desc limit 1;\"\"\")\n",
        "        desc = cur.description\n",
        "        column_names = [col[0] for col in desc]\n",
        "        data = [dict(zip(column_names, row))  \n",
        "        for row in cur.fetchall()]\n",
        "        return data\n"
      ],
      "metadata": {
        "application/vnd.databricks.v1+cell": {
          "title": "",
          "showTitle": false,
          "inputWidgets": {},
          "nuid": "65f06eaf-f7ab-4ac4-8637-5b1e74866cc8"
        },
        "id": "ukrkKa4RtkR5"
      },
      "outputs": [],
      "execution_count": 86
    },
    {
      "cell_type": "code",
      "source": [
        "# creating class database object\n",
        "db = Database()\n",
        " \n",
        "# calling the instance method using the object db\n",
        "con = db.get_conn()"
      ],
      "metadata": {
        "application/vnd.databricks.v1+cell": {
          "title": "",
          "showTitle": false,
          "inputWidgets": {},
          "nuid": "40a372e3-e3f0-44b7-9f4a-a18a116a4b1c"
        },
        "id": "Rul2Rm23tkR8",
        "outputId": "92d06c52-c0b5-4c6d-efd2-9c55cf2af772",
        "colab": {
          "base_uri": "https://localhost:8080/"
        }
      },
      "outputs": [
        {
          "output_type": "stream",
          "name": "stdout",
          "text": [
            "Database connected successfully\n"
          ]
        }
      ],
      "execution_count": 87
    },
    {
      "cell_type": "code",
      "source": [
        "qry1_result = db.get_query1_result(con);\n",
        "print(qry1_result)"
      ],
      "metadata": {
        "application/vnd.databricks.v1+cell": {
          "title": "",
          "showTitle": false,
          "inputWidgets": {},
          "nuid": "b6a0e400-a927-44da-a836-d20d0aa61fb6"
        },
        "id": "xtknA2kStkR9",
        "outputId": "0854f226-53c3-4867-9b0c-db128eff4e2c",
        "colab": {
          "base_uri": "https://localhost:8080/"
        }
      },
      "outputs": [
        {
          "output_type": "stream",
          "name": "stdout",
          "text": [
            "[{'venue': 'Dubai International Cricket Stadium', 'venue_count': 3}, {'venue': 'Sheikh Zayed Stadium', 'venue_count': 2}, {'venue': 'Feroz Shah Kotla', 'venue_count': 1}]\n"
          ]
        }
      ],
      "execution_count": 88
    },
    {
      "cell_type": "code",
      "source": [
        "qry2_result = db.get_query2_result(con);\n",
        "print(qry2_result)"
      ],
      "metadata": {
        "application/vnd.databricks.v1+cell": {
          "title": "",
          "showTitle": false,
          "inputWidgets": {},
          "nuid": "eca61e1d-b4ed-43f7-9f7d-68da6dab2132"
        },
        "id": "3Tb9sXsWtkR9",
        "outputId": "686b98d7-a0ac-4163-fe79-c5daa2dbc5d0",
        "colab": {
          "base_uri": "https://localhost:8080/"
        }
      },
      "outputs": [
        {
          "output_type": "stream",
          "name": "stdout",
          "text": [
            "[{'fielder': 'KD Karthik', 'NoOfCatches': 118}]\n"
          ]
        }
      ],
      "execution_count": 89
    },
    {
      "cell_type": "code",
      "source": [
        "qry3_result = db.get_query3_result(con);\n",
        "print(qry3_result)"
      ],
      "metadata": {
        "application/vnd.databricks.v1+cell": {
          "title": "",
          "showTitle": false,
          "inputWidgets": {},
          "nuid": "4105e732-ce97-44d3-b9bd-a72e3278d004"
        },
        "id": "TZUGEKADtkR-",
        "outputId": "43bac5be-c0a7-438e-ced5-b7b15601f292",
        "colab": {
          "base_uri": "https://localhost:8080/"
        }
      },
      "outputs": [
        {
          "output_type": "stream",
          "name": "stdout",
          "text": [
            "[{'match_id': 392183, 'bowler': 'DL Vettori', 'NoOfWickets': 5}, {'match_id': 336025, 'bowler': 'M Ntini', 'NoOfWickets': 4}, {'match_id': 980943, 'bowler': 'AB Dinda', 'NoOfWickets': 4}, {'match_id': 980999, 'bowler': 'YS Chahal', 'NoOfWickets': 4}, {'match_id': 980997, 'bowler': 'A Zampa', 'NoOfWickets': 3}, {'match_id': 980997, 'bowler': 'AB Dinda', 'NoOfWickets': 3}, {'match_id': 1082648, 'bowler': 'NM Coulter-Nile', 'NoOfWickets': 3}, {'match_id': 1136566, 'bowler': 'S Nadeem', 'NoOfWickets': 3}, {'match_id': 1136592, 'bowler': 'JD Unadkat', 'NoOfWickets': 3}, {'match_id': 1136592, 'bowler': 'TA Boult', 'NoOfWickets': 3}, {'match_id': 336022, 'bowler': 'JR Hopes', 'NoOfWickets': 2}, {'match_id': 336022, 'bowler': 'RR Powar', 'NoOfWickets': 2}, {'match_id': 392186, 'bowler': 'SC Ganguly', 'NoOfWickets': 2}, {'match_id': 501215, 'bowler': 'NLTC Perera', 'NoOfWickets': 2}, {'match_id': 501215, 'bowler': 'R Ashwin', 'NoOfWickets': 2}, {'match_id': 501245, 'bowler': 'L Balaji', 'NoOfWickets': 2}, {'match_id': 501245, 'bowler': 'R Ashwin', 'NoOfWickets': 2}, {'match_id': 501255, 'bowler': 'CK Langeveldt', 'NoOfWickets': 2}, {'match_id': 501255, 'bowler': 'JH Kallis', 'NoOfWickets': 2}, {'match_id': 733993, 'bowler': 'A Mishra', 'NoOfWickets': 2}, {'match_id': 733993, 'bowler': 'DW Steyn', 'NoOfWickets': 2}, {'match_id': 733993, 'bowler': 'MC Henriques', 'NoOfWickets': 2}, {'match_id': 829743, 'bowler': 'M Morkel', 'NoOfWickets': 2}, {'match_id': 829807, 'bowler': 'D Wiese', 'NoOfWickets': 2}, {'match_id': 829807, 'bowler': 'MC Henriques', 'NoOfWickets': 2}, {'match_id': 980943, 'bowler': 'MR Marsh', 'NoOfWickets': 2}, {'match_id': 980989, 'bowler': 'PP Chawla', 'NoOfWickets': 2}, {'match_id': 980989, 'bowler': 'R Ashwin', 'NoOfWickets': 2}, {'match_id': 980999, 'bowler': 'S Aravind', 'NoOfWickets': 2}, {'match_id': 980999, 'bowler': 'SR Watson', 'NoOfWickets': 2}, {'match_id': 1082648, 'bowler': 'B Kumar', 'NoOfWickets': 2}, {'match_id': 1082648, 'bowler': 'UT Yadav', 'NoOfWickets': 2}, {'match_id': 1136566, 'bowler': 'B Laughlin', 'NoOfWickets': 2}, {'match_id': 1136578, 'bowler': 'AJ Tye', 'NoOfWickets': 2}, {'match_id': 1136578, 'bowler': 'BB Sran', 'NoOfWickets': 2}, {'match_id': 1136578, 'bowler': 'Mujeeb Ur Rahman', 'NoOfWickets': 2}, {'match_id': 336022, 'bowler': 'A Mishra', 'NoOfWickets': 1}, {'match_id': 336022, 'bowler': 'GD McGrath', 'NoOfWickets': 1}, {'match_id': 336022, 'bowler': 'PJ Sangwan', 'NoOfWickets': 1}, {'match_id': 336025, 'bowler': 'L Balaji', 'NoOfWickets': 1}, {'match_id': 392183, 'bowler': 'AM Salvi', 'NoOfWickets': 1}, {'match_id': 392183, 'bowler': 'VY Mahesh', 'NoOfWickets': 1}, {'match_id': 392186, 'bowler': 'AB Dinda', 'NoOfWickets': 1}, {'match_id': 392186, 'bowler': 'I Sharma', 'NoOfWickets': 1}, {'match_id': 392186, 'bowler': 'LR Shukla', 'NoOfWickets': 1}, {'match_id': 392186, 'bowler': 'MC Henriques', 'NoOfWickets': 1}, {'match_id': 392186, 'bowler': 'VS Malik', 'NoOfWickets': 1}, {'match_id': 392214, 'bowler': 'IK Pathan', 'NoOfWickets': 1}, {'match_id': 392214, 'bowler': 'JA Morkel', 'NoOfWickets': 1}, {'match_id': 392214, 'bowler': 'L Balaji', 'NoOfWickets': 1}, {'match_id': 392214, 'bowler': 'PP Chawla', 'NoOfWickets': 1}, {'match_id': 392214, 'bowler': 'S Sreesanth', 'NoOfWickets': 1}, {'match_id': 392214, 'bowler': 'SB Jakati', 'NoOfWickets': 1}, {'match_id': 501215, 'bowler': 'DE Bollinger', 'NoOfWickets': 1}, {'match_id': 501215, 'bowler': 'RP Singh', 'NoOfWickets': 1}, {'match_id': 501215, 'bowler': 'RV Gomez', 'NoOfWickets': 1}, {'match_id': 501245, 'bowler': 'Iqbal Abdulla', 'NoOfWickets': 1}, {'match_id': 501245, 'bowler': 'YK Pathan', 'NoOfWickets': 1}, {'match_id': 501255, 'bowler': 'B Lee', 'NoOfWickets': 1}, {'match_id': 501255, 'bowler': 'Iqbal Abdulla', 'NoOfWickets': 1}, {'match_id': 501255, 'bowler': 'JD Unadkat', 'NoOfWickets': 1}, {'match_id': 501255, 'bowler': 'L Balaji', 'NoOfWickets': 1}, {'match_id': 501255, 'bowler': 'S Aravind', 'NoOfWickets': 1}, {'match_id': 501255, 'bowler': 'Z Khan', 'NoOfWickets': 1}, {'match_id': 733993, 'bowler': 'B Kumar', 'NoOfWickets': 1}, {'match_id': 733993, 'bowler': 'R Shukla', 'NoOfWickets': 1}, {'match_id': 733993, 'bowler': 'S Kaul', 'NoOfWickets': 1}, {'match_id': 829743, 'bowler': 'AD Russell', 'NoOfWickets': 1}, {'match_id': 829743, 'bowler': 'B Kumar', 'NoOfWickets': 1}, {'match_id': 829743, 'bowler': 'MC Henriques', 'NoOfWickets': 1}, {'match_id': 829743, 'bowler': 'P Kumar', 'NoOfWickets': 1}, {'match_id': 829743, 'bowler': 'RS Bopara', 'NoOfWickets': 1}, {'match_id': 829743, 'bowler': 'UT Yadav', 'NoOfWickets': 1}, {'match_id': 829807, 'bowler': 'B Kumar', 'NoOfWickets': 1}, {'match_id': 829807, 'bowler': 'MA Starc', 'NoOfWickets': 1}, {'match_id': 829807, 'bowler': 'P Kumar', 'NoOfWickets': 1}, {'match_id': 980943, 'bowler': 'A Nehra', 'NoOfWickets': 1}, {'match_id': 980943, 'bowler': 'B Kumar', 'NoOfWickets': 1}, {'match_id': 980943, 'bowler': 'MC Henriques', 'NoOfWickets': 1}, {'match_id': 980943, 'bowler': 'NLTC Perera', 'NoOfWickets': 1}, {'match_id': 980943, 'bowler': 'R Ashwin', 'NoOfWickets': 1}, {'match_id': 980989, 'bowler': 'AD Russell', 'NoOfWickets': 1}, {'match_id': 980989, 'bowler': 'AS Rajpoot', 'NoOfWickets': 1}, {'match_id': 980989, 'bowler': 'SP Narine', 'NoOfWickets': 1}, {'match_id': 980989, 'bowler': 'Shakib Al Hasan', 'NoOfWickets': 1}, {'match_id': 980997, 'bowler': 'CH Morris', 'NoOfWickets': 1}, {'match_id': 980999, 'bowler': 'AR Patel', 'NoOfWickets': 1}, {'match_id': 980999, 'bowler': 'KJ Abbott', 'NoOfWickets': 1}, {'match_id': 980999, 'bowler': 'Sachin Baby', 'NoOfWickets': 1}, {'match_id': 980999, 'bowler': 'Sandeep Sharma', 'NoOfWickets': 1}, {'match_id': 1082648, 'bowler': 'CJ Jordan', 'NoOfWickets': 1}, {'match_id': 1082648, 'bowler': 'PP Chawla', 'NoOfWickets': 1}, {'match_id': 1082648, 'bowler': 'TA Boult', 'NoOfWickets': 1}, {'match_id': 1136566, 'bowler': 'JD Unadkat', 'NoOfWickets': 1}, {'match_id': 1136566, 'bowler': 'K Gowtham', 'NoOfWickets': 1}, {'match_id': 1136566, 'bowler': 'Mohammed Shami', 'NoOfWickets': 1}, {'match_id': 1136566, 'bowler': 'TA Boult', 'NoOfWickets': 1}, {'match_id': 1136578, 'bowler': 'R Ashwin', 'NoOfWickets': 1}, {'match_id': 1136578, 'bowler': 'SP Narine', 'NoOfWickets': 1}, {'match_id': 1136592, 'bowler': 'A Mishra', 'NoOfWickets': 1}, {'match_id': 1136592, 'bowler': 'DS Kulkarni', 'NoOfWickets': 1}, {'match_id': 1136592, 'bowler': 'GJ Maxwell', 'NoOfWickets': 1}, {'match_id': 1136592, 'bowler': 'JC Archer', 'NoOfWickets': 1}, {'match_id': 1136592, 'bowler': 'S Gopal', 'NoOfWickets': 1}]\n"
          ]
        }
      ],
      "execution_count": 90
    },
    {
      "cell_type": "code",
      "source": [
        "qry4_result = db.get_query4_result(con);\n",
        "print(qry4_result)"
      ],
      "metadata": {
        "application/vnd.databricks.v1+cell": {
          "title": "",
          "showTitle": false,
          "inputWidgets": {},
          "nuid": "45da2141-fffd-4079-917a-410a51191184"
        },
        "id": "WOonuaIAtkR_",
        "outputId": "163db62b-d8e8-40c8-c935-c589acfd5976",
        "colab": {
          "base_uri": "https://localhost:8080/"
        }
      },
      "outputs": [
        {
          "output_type": "stream",
          "name": "stdout",
          "text": [
            "[{'batsman': 'A Ashish Reddy', 'strikeRate': 0}, {'batsman': 'A Chopra', 'strikeRate': 0}, {'batsman': 'A Flintoff', 'strikeRate': 0}, {'batsman': 'A Kumble', 'strikeRate': 0}, {'batsman': 'A Mishra', 'strikeRate': 0}, {'batsman': 'A Mithun', 'strikeRate': 0}, {'batsman': 'A Nehra', 'strikeRate': 0}, {'batsman': 'A Symonds', 'strikeRate': 0}, {'batsman': 'AA Bilakhia', 'strikeRate': 0}, {'batsman': 'AA Jhunjhunwala', 'strikeRate': 0}, {'batsman': 'AB Agarkar', 'strikeRate': 0}, {'batsman': 'AB Dinda', 'strikeRate': 0}, {'batsman': 'AB McDonald', 'strikeRate': 0}, {'batsman': 'AB de Villiers', 'strikeRate': 0}, {'batsman': 'AC Gilchrist', 'strikeRate': 0}, {'batsman': 'AC Voges', 'strikeRate': 0}, {'batsman': 'AD Mascarenhas', 'strikeRate': 0}, {'batsman': 'AD Mathews', 'strikeRate': 0}, {'batsman': 'AD Russell', 'strikeRate': 0}, {'batsman': 'AJ Finch', 'strikeRate': 0}, {'batsman': 'AJ Tye', 'strikeRate': 0}, {'batsman': 'AL Menaria', 'strikeRate': 0}, {'batsman': 'AM Nayar', 'strikeRate': 0}, {'batsman': 'AM Rahane', 'strikeRate': 0}, {'batsman': 'AN Ahmed', 'strikeRate': 0}, {'batsman': 'AP Majumdar', 'strikeRate': 0}, {'batsman': 'AR Patel', 'strikeRate': 0}, {'batsman': 'AS Rajpoot', 'strikeRate': 0}, {'batsman': 'AS Yadav', 'strikeRate': 0}, {'batsman': 'AT Carey', 'strikeRate': 0}, {'batsman': 'AT Rayudu', 'strikeRate': 0}, {'batsman': 'Abdul Samad', 'strikeRate': 0}, {'batsman': 'Abhishek Sharma', 'strikeRate': 0}, {'batsman': 'Ankit Soni', 'strikeRate': 0}, {'batsman': 'Anureet Singh', 'strikeRate': 0}, {'batsman': 'Azhar Mahmood', 'strikeRate': 0}, {'batsman': 'B Akhil', 'strikeRate': 0}, {'batsman': 'B Chipli', 'strikeRate': 0}, {'batsman': 'B Kumar', 'strikeRate': 0}, {'batsman': 'B Lee', 'strikeRate': 0}, {'batsman': 'BA Stokes', 'strikeRate': 0}, {'batsman': 'BB McCullum', 'strikeRate': 0}, {'batsman': 'BB Samantray', 'strikeRate': 0}, {'batsman': 'BB Sran', 'strikeRate': 0}, {'batsman': 'BCJ Cutting', 'strikeRate': 0}, {'batsman': 'BJ Hodge', 'strikeRate': 0}, {'batsman': 'BJ Rohrer', 'strikeRate': 0}, {'batsman': 'Basil Thampi', 'strikeRate': 0}, {'batsman': 'Bipul Sharma', 'strikeRate': 0}, {'batsman': 'C de Grandhomme', 'strikeRate': 0}, {'batsman': 'CA Lynn', 'strikeRate': 0}, {'batsman': 'CA Pujara', 'strikeRate': 0}, {'batsman': 'CH Gayle', 'strikeRate': 0}, {'batsman': 'CH Morris', 'strikeRate': 0}, {'batsman': 'CJ Anderson', 'strikeRate': 0}, {'batsman': 'CJ Ferguson', 'strikeRate': 0}, {'batsman': 'CJ Jordan', 'strikeRate': 0}, {'batsman': 'CK Kapugedera', 'strikeRate': 0}, {'batsman': 'CL White', 'strikeRate': 0}, {'batsman': 'CM Gautam', 'strikeRate': 0}, {'batsman': 'CR Brathwaite', 'strikeRate': 0}, {'batsman': 'CV Varun', 'strikeRate': 0}, {'batsman': 'D Kalyankrishna', 'strikeRate': 0}, {'batsman': 'D Padikkal', 'strikeRate': 0}, {'batsman': 'D Wiese', 'strikeRate': 0}, {'batsman': 'DA Miller', 'strikeRate': 0}, {'batsman': 'DA Warner', 'strikeRate': 0}, {'batsman': 'DB Das', 'strikeRate': 0}, {'batsman': 'DB Ravi Teja', 'strikeRate': 0}, {'batsman': 'DE Bollinger', 'strikeRate': 0}, {'batsman': 'DH Yagnik', 'strikeRate': 0}, {'batsman': 'DJ Bravo', 'strikeRate': 0}, {'batsman': 'DJ Hooda', 'strikeRate': 0}, {'batsman': 'DJ Hussey', 'strikeRate': 0}, {'batsman': 'DJ Thornely', 'strikeRate': 0}, {'batsman': 'DJG Sammy', 'strikeRate': 0}, {'batsman': 'DL Chahar', 'strikeRate': 0}, {'batsman': 'DL Vettori', 'strikeRate': 0}, {'batsman': 'DNT Zoysa', 'strikeRate': 0}, {'batsman': 'DPMD Jayawardene', 'strikeRate': 0}, {'batsman': 'DR Smith', 'strikeRate': 0}, {'batsman': 'DS Kulkarni', 'strikeRate': 0}, {'batsman': 'DT Christian', 'strikeRate': 0}, {'batsman': 'DW Steyn', 'strikeRate': 0}, {'batsman': 'E Lewis', 'strikeRate': 0}, {'batsman': 'EJG Morgan', 'strikeRate': 0}, {'batsman': 'ER Dwivedi', 'strikeRate': 0}, {'batsman': 'F du Plessis', 'strikeRate': 0}, {'batsman': 'FY Fazal', 'strikeRate': 0}, {'batsman': 'G Gambhir', 'strikeRate': 0}, {'batsman': 'GC Smith', 'strikeRate': 0}, {'batsman': 'GC Viljoen', 'strikeRate': 0}, {'batsman': 'GH Vihari', 'strikeRate': 0}, {'batsman': 'GJ Bailey', 'strikeRate': 0}, {'batsman': 'GJ Maxwell', 'strikeRate': 0}, {'batsman': 'Gurkeerat Singh', 'strikeRate': 0}, {'batsman': 'HH Gibbs', 'strikeRate': 0}, {'batsman': 'HH Pandya', 'strikeRate': 0}, {'batsman': 'HM Amla', 'strikeRate': 0}, {'batsman': 'HV Patel', 'strikeRate': 0}, {'batsman': 'Harbhajan Singh', 'strikeRate': 0}, {'batsman': 'I Sharma', 'strikeRate': 0}, {'batsman': 'IK Pathan', 'strikeRate': 0}, {'batsman': 'IR Jaggi', 'strikeRate': 0}, {'batsman': 'Imran Tahir', 'strikeRate': 0}, {'batsman': 'Iqbal Abdulla', 'strikeRate': 0}, {'batsman': 'Ishan Kishan', 'strikeRate': 0}, {'batsman': 'J Botha', 'strikeRate': 0}, {'batsman': 'J Suchith', 'strikeRate': 0}, {'batsman': 'JA Morkel', 'strikeRate': 0}, {'batsman': 'JC Archer', 'strikeRate': 0}, {'batsman': 'JC Buttler', 'strikeRate': 0}, {'batsman': 'JD Ryder', 'strikeRate': 0}, {'batsman': 'JD Unadkat', 'strikeRate': 0}, {'batsman': 'JDP Oram', 'strikeRate': 0}, {'batsman': 'JDS Neesham', 'strikeRate': 0}, {'batsman': 'JEC Franklin', 'strikeRate': 0}, {'batsman': 'JH Kallis', 'strikeRate': 0}, {'batsman': 'JJ Bumrah', 'strikeRate': 0}, {'batsman': 'JJ Roy', 'strikeRate': 0}, {'batsman': 'JM Bairstow', 'strikeRate': 0}, {'batsman': 'JO Holder', 'strikeRate': 0}, {'batsman': 'JP Duminy', 'strikeRate': 0}, {'batsman': 'JP Faulkner', 'strikeRate': 0}, {'batsman': 'JR Hopes', 'strikeRate': 0}, {'batsman': 'K Goel', 'strikeRate': 0}, {'batsman': 'K Gowtham', 'strikeRate': 0}, {'batsman': 'K Rabada', 'strikeRate': 0}, {'batsman': 'KA Pollard', 'strikeRate': 0}, {'batsman': 'KB Arun Karthik', 'strikeRate': 0}, {'batsman': 'KC Sangakkara', 'strikeRate': 0}, {'batsman': 'KD Karthik', 'strikeRate': 0}, {'batsman': 'KH Pandya', 'strikeRate': 0}, {'batsman': 'KK Nair', 'strikeRate': 0}, {'batsman': 'KL Rahul', 'strikeRate': 0}, {'batsman': 'KM Jadhav', 'strikeRate': 0}, {'batsman': 'KMA Paul', 'strikeRate': 0}, {'batsman': 'KMDN Kulasekara', 'strikeRate': 0}, {'batsman': 'KP Appanna', 'strikeRate': 0}, {'batsman': 'KP Pietersen', 'strikeRate': 0}, {'batsman': 'KS Williamson', 'strikeRate': 0}, {'batsman': 'KV Sharma', 'strikeRate': 0}, {'batsman': 'Kuldeep Yadav', 'strikeRate': 0}, {'batsman': 'L Balaji', 'strikeRate': 0}, {'batsman': 'LA Carseldine', 'strikeRate': 0}, {'batsman': 'LA Pomersbach', 'strikeRate': 0}, {'batsman': 'LH Ferguson', 'strikeRate': 0}, {'batsman': 'LMP Simmons', 'strikeRate': 0}, {'batsman': 'LPC Silva', 'strikeRate': 0}, {'batsman': 'LR Shukla', 'strikeRate': 0}, {'batsman': 'LRPL Taylor', 'strikeRate': 0}, {'batsman': 'M Kaif', 'strikeRate': 0}, {'batsman': 'M Kartik', 'strikeRate': 0}, {'batsman': 'M Manhas', 'strikeRate': 0}, {'batsman': 'M Markande', 'strikeRate': 0}, {'batsman': 'M Muralitharan', 'strikeRate': 0}, {'batsman': 'M Rawat', 'strikeRate': 0}, {'batsman': 'M Vijay', 'strikeRate': 0}, {'batsman': 'M Vohra', 'strikeRate': 0}, {'batsman': 'MA Agarwal', 'strikeRate': 0}, {'batsman': 'MA Khote', 'strikeRate': 0}, {'batsman': 'MA Starc', 'strikeRate': 0}, {'batsman': 'MC Henriques', 'strikeRate': 0}, {'batsman': 'MC Juneja', 'strikeRate': 0}, {'batsman': 'MEK Hussey', 'strikeRate': 0}, {'batsman': 'MF Maharoof', 'strikeRate': 0}, {'batsman': 'MG Johnson', 'strikeRate': 0}, {'batsman': 'MJ Guptill', 'strikeRate': 0}, {'batsman': 'MJ McClenaghan', 'strikeRate': 0}, {'batsman': 'MK Lomror', 'strikeRate': 0}, {'batsman': 'MK Pandey', 'strikeRate': 0}, {'batsman': 'MK Tiwary', 'strikeRate': 0}, {'batsman': 'ML Hayden', 'strikeRate': 0}, {'batsman': 'MM Ali', 'strikeRate': 0}, {'batsman': 'MM Patel', 'strikeRate': 0}, {'batsman': 'MM Sharma', 'strikeRate': 0}, {'batsman': 'MN Samuels', 'strikeRate': 0}, {'batsman': 'MN van Wyk', 'strikeRate': 0}, {'batsman': 'MP Stoinis', 'strikeRate': 0}, {'batsman': 'MR Marsh', 'strikeRate': 0}, {'batsman': 'MS Bisla', 'strikeRate': 0}, {'batsman': 'MS Dhoni', 'strikeRate': 0}, {'batsman': 'MS Gony', 'strikeRate': 0}, {'batsman': 'MV Boucher', 'strikeRate': 0}, {'batsman': 'Mandeep Singh', 'strikeRate': 0}, {'batsman': 'Mohammad Hafeez', 'strikeRate': 0}, {'batsman': 'Mohammad Nabi', 'strikeRate': 0}, {'batsman': 'Mohammed Shami', 'strikeRate': 0}, {'batsman': 'Mohammed Siraj', 'strikeRate': 0}, {'batsman': 'Mujeeb Ur Rahman', 'strikeRate': 0}, {'batsman': 'N Pooran', 'strikeRate': 0}, {'batsman': 'N Rana', 'strikeRate': 0}, {'batsman': 'NL McCullum', 'strikeRate': 0}, {'batsman': 'NLTC Perera', 'strikeRate': 0}, {'batsman': 'NS Naik', 'strikeRate': 0}, {'batsman': 'NV Ojha', 'strikeRate': 0}, {'batsman': 'Niraj Patel', 'strikeRate': 0}, {'batsman': 'OA Shah', 'strikeRate': 0}, {'batsman': 'P Dogra', 'strikeRate': 0}, {'batsman': 'P Dubey', 'strikeRate': 0}, {'batsman': 'P Kumar', 'strikeRate': 0}, {'batsman': 'P Negi', 'strikeRate': 0}, {'batsman': 'PA Patel', 'strikeRate': 0}, {'batsman': 'PC Valthaty', 'strikeRate': 0}, {'batsman': 'PD Collingwood', 'strikeRate': 0}, {'batsman': 'PJ Cummins', 'strikeRate': 0}, {'batsman': 'PJ Sangwan', 'strikeRate': 0}, {'batsman': 'PK Garg', 'strikeRate': 0}, {'batsman': 'PP Chawla', 'strikeRate': 0}, {'batsman': 'PP Ojha', 'strikeRate': 0}, {'batsman': 'PP Shaw', 'strikeRate': 0}, {'batsman': 'PR Shah', 'strikeRate': 0}, {'batsman': 'PV Tambe', 'strikeRate': 0}, {'batsman': 'Parvez Rasool', 'strikeRate': 0}, {'batsman': 'Q de Kock', 'strikeRate': 0}, {'batsman': 'R Ashwin', 'strikeRate': 0}, {'batsman': 'R Bhatia', 'strikeRate': 0}, {'batsman': 'R Dhawan', 'strikeRate': 0}, {'batsman': 'R Dravid', 'strikeRate': 0}, {'batsman': 'R McLaren', 'strikeRate': 0}, {'batsman': 'R Parag', 'strikeRate': 0}, {'batsman': 'R Rampaul', 'strikeRate': 0}, {'batsman': 'R Sathish', 'strikeRate': 0}, {'batsman': 'R Sharma', 'strikeRate': 0}, {'batsman': 'R Tewatia', 'strikeRate': 0}, {'batsman': 'R Vinay Kumar', 'strikeRate': 0}, {'batsman': 'RA Jadeja', 'strikeRate': 0}, {'batsman': 'RA Tripathi', 'strikeRate': 0}, {'batsman': 'RD Gaikwad', 'strikeRate': 0}, {'batsman': 'RE Levi', 'strikeRate': 0}, {'batsman': 'RE van der Merwe', 'strikeRate': 0}, {'batsman': 'RG Sharma', 'strikeRate': 0}, {'batsman': 'RJ Harris', 'strikeRate': 0}, {'batsman': 'RJ Peterson', 'strikeRate': 0}, {'batsman': 'RJ Quiney', 'strikeRate': 0}, {'batsman': 'RN ten Doeschate', 'strikeRate': 0}, {'batsman': 'RP Singh', 'strikeRate': 0}, {'batsman': 'RR Pant', 'strikeRate': 0}, {'batsman': 'RR Powar', 'strikeRate': 0}, {'batsman': 'RR Sarwan', 'strikeRate': 0}, {'batsman': 'RS Bopara', 'strikeRate': 0}, {'batsman': 'RT Ponting', 'strikeRate': 0}, {'batsman': 'RV Gomez', 'strikeRate': 0}, {'batsman': 'RV Uthappa', 'strikeRate': 0}, {'batsman': 'Rashid Khan', 'strikeRate': 0}, {'batsman': 'S Anirudha', 'strikeRate': 0}, {'batsman': 'S Aravind', 'strikeRate': 0}, {'batsman': 'S Badrinath', 'strikeRate': 0}, {'batsman': 'S Dhawan', 'strikeRate': 0}, {'batsman': 'S Dube', 'strikeRate': 0}, {'batsman': 'S Gopal', 'strikeRate': 0}, {'batsman': 'S Nadeem', 'strikeRate': 0}, {'batsman': 'S Rana', 'strikeRate': 0}, {'batsman': 'S Sohal', 'strikeRate': 0}, {'batsman': 'S Sreesanth', 'strikeRate': 0}, {'batsman': 'S Sriram', 'strikeRate': 0}, {'batsman': 'SA Abbott', 'strikeRate': 0}, {'batsman': 'SA Asnodkar', 'strikeRate': 0}, {'batsman': 'SA Yadav', 'strikeRate': 0}, {'batsman': 'SB Bangar', 'strikeRate': 0}, {'batsman': 'SB Styris', 'strikeRate': 0}, {'batsman': 'SC Ganguly', 'strikeRate': 0}, {'batsman': 'SD Chitnis', 'strikeRate': 0}, {'batsman': 'SE Marsh', 'strikeRate': 0}, {'batsman': 'SE Rutherford', 'strikeRate': 0}, {'batsman': 'SK Raina', 'strikeRate': 0}, {'batsman': 'SK Warne', 'strikeRate': 0}, {'batsman': 'SL Malinga', 'strikeRate': 0}, {'batsman': 'SM Harwood', 'strikeRate': 0}, {'batsman': 'SM Katich', 'strikeRate': 0}, {'batsman': 'SM Pollock', 'strikeRate': 0}, {'batsman': 'SN Khan', 'strikeRate': 0}, {'batsman': 'SO Hetmyer', 'strikeRate': 0}, {'batsman': 'SP Fleming', 'strikeRate': 0}, {'batsman': 'SP Goswami', 'strikeRate': 0}, {'batsman': 'SP Narine', 'strikeRate': 0}, {'batsman': 'SPD Smith', 'strikeRate': 0}, {'batsman': 'SR Tendulkar', 'strikeRate': 0}, {'batsman': 'SR Watson', 'strikeRate': 0}, {'batsman': 'SS Iyer', 'strikeRate': 0}, {'batsman': 'SS Tiwary', 'strikeRate': 0}, {'batsman': 'ST Jayasuriya', 'strikeRate': 0}, {'batsman': 'STR Binny', 'strikeRate': 0}, {'batsman': 'SV Samson', 'strikeRate': 0}, {'batsman': 'SW Billings', 'strikeRate': 0}, {'batsman': 'Sachin Baby', 'strikeRate': 0}, {'batsman': 'Salman Butt', 'strikeRate': 0}, {'batsman': 'Sandeep Sharma', 'strikeRate': 0}, {'batsman': 'Shakib Al Hasan', 'strikeRate': 0}, {'batsman': 'Shivam Mavi', 'strikeRate': 0}, {'batsman': 'Shubman Gill', 'strikeRate': 0}, {'batsman': 'Sunny Singh', 'strikeRate': 0}, {'batsman': 'TK Curran', 'strikeRate': 0}, {'batsman': 'TL Suman', 'strikeRate': 0}, {'batsman': 'TM Dilshan', 'strikeRate': 0}, {'batsman': 'TM Head', 'strikeRate': 0}, {'batsman': 'TR Birt', 'strikeRate': 0}, {'batsman': 'TS Mills', 'strikeRate': 0}, {'batsman': 'UBT Chand', 'strikeRate': 0}, {'batsman': 'UT Yadav', 'strikeRate': 0}, {'batsman': 'Umar Gul', 'strikeRate': 0}, {'batsman': 'V Kohli', 'strikeRate': 0}, {'batsman': 'V Sehwag', 'strikeRate': 0}, {'batsman': 'V Shankar', 'strikeRate': 0}, {'batsman': 'VRV Singh', 'strikeRate': 0}, {'batsman': 'VS Malik', 'strikeRate': 0}, {'batsman': 'VVS Laxman', 'strikeRate': 0}, {'batsman': 'VY Mahesh', 'strikeRate': 0}, {'batsman': 'W Jaffer', 'strikeRate': 0}, {'batsman': 'WA Mota', 'strikeRate': 0}, {'batsman': 'WD Parnell', 'strikeRate': 0}, {'batsman': 'WP Saha', 'strikeRate': 0}, {'batsman': 'WPUJC Vaas', 'strikeRate': 0}, {'batsman': 'Washington Sundar', 'strikeRate': 0}, {'batsman': 'Y Nagar', 'strikeRate': 0}, {'batsman': 'Y Venugopal Rao', 'strikeRate': 0}, {'batsman': 'YA Abdulla', 'strikeRate': 0}, {'batsman': 'YK Pathan', 'strikeRate': 0}, {'batsman': 'YS Chahal', 'strikeRate': 0}, {'batsman': 'YV Takawale', 'strikeRate': 0}, {'batsman': 'Yuvraj Singh', 'strikeRate': 0}, {'batsman': 'Z Khan', 'strikeRate': 0}]\n"
          ]
        }
      ],
      "execution_count": 91
    },
    {
      "cell_type": "code",
      "source": [
        "qry5_result = db.get_query5_result(con);\n",
        "print(qry5_result)"
      ],
      "metadata": {
        "application/vnd.databricks.v1+cell": {
          "title": "",
          "showTitle": false,
          "inputWidgets": {},
          "nuid": "92b61f2e-fa10-412d-9fb4-8121f687a177"
        },
        "id": "PEKbn8YNtkSA",
        "outputId": "9e841177-1c5f-4c04-b146-a63cd6e1f1be",
        "colab": {
          "base_uri": "https://localhost:8080/"
        }
      },
      "outputs": [
        {
          "output_type": "stream",
          "name": "stdout",
          "text": [
            "[{'venue': 'M.Chinnaswamy Stadium', 'city': 'Bengaluru', 'extra_runs': 1355}, {'venue': 'Wankhede Stadium', 'city': 'Mumbai', 'extra_runs': 1232}, {'venue': 'Eden Gardens', 'city': 'Kolkata', 'extra_runs': 1215}, {'venue': 'Feroz Shah Kotla', 'city': 'Delhi', 'extra_runs': 1114}, {'venue': 'MA Chidambaram Stadium, Chepauk', 'city': 'Chennai', 'extra_runs': 905}, {'venue': 'Rajiv Gandhi International Stadium, Uppal', 'city': 'Hyderabad', 'extra_runs': 900}, {'venue': 'Sawai Mansingh Stadium', 'city': 'Jaipur', 'extra_runs': 791}, {'venue': 'Punjab Cricket Association Stadium, Mohali', 'city': 'Chandigarh', 'extra_runs': 566}, {'venue': 'Dubai International Cricket Stadium', 'city': 'Dubai', 'extra_runs': 492}, {'venue': 'Sheikh Zayed Stadium', 'city': 'Abu Dhabi', 'extra_runs': 387}, {'venue': 'Dr DY Patil Sports Academy', 'city': 'Mumbai', 'extra_runs': 320}, {'venue': 'Maharashtra Cricket Association Stadium', 'city': 'Pune', 'extra_runs': 315}, {'venue': 'Sharjah Cricket Stadium', 'city': 'Sharjah', 'extra_runs': 287}, {'venue': 'Kingsmead', 'city': 'Durban', 'extra_runs': 277}, {'venue': 'Punjab Cricket Association IS Bindra Stadium, Mohali', 'city': 'Chandigarh', 'extra_runs': 271}, {'venue': 'Brabourne Stadium', 'city': 'Mumbai', 'extra_runs': 246}, {'venue': 'Subrata Roy Sahara Stadium', 'city': 'Pune', 'extra_runs': 237}, {'venue': 'SuperSport Park', 'city': 'Centurion', 'extra_runs': 213}, {'venue': 'Himachal Pradesh Cricket Association Stadium', 'city': 'Dharamsala', 'extra_runs': 177}, {'venue': 'Sardar Patel Stadium, Motera', 'city': 'Ahmedabad', 'extra_runs': 175}, {'venue': 'Dr. Y.S. Rajasekhara Reddy ACA-VDCA Cricket Stadium', 'city': 'Visakhapatnam', 'extra_runs': 161}, {'venue': 'Holkar Cricket Stadium', 'city': 'Indore', 'extra_runs': 137}, {'venue': 'Saurashtra Cricket Association Stadium', 'city': 'Rajkot', 'extra_runs': 131}, {'venue': \"St George's Park\", 'city': 'Port Elizabeth', 'extra_runs': 129}, {'venue': 'Newlands', 'city': 'Cape Town', 'extra_runs': 112}, {'venue': 'New Wanderers Stadium', 'city': 'Johannesburg', 'extra_runs': 108}, {'venue': 'JSCA International Stadium Complex', 'city': 'Ranchi', 'extra_runs': 100}, {'venue': 'Barabati Stadium', 'city': 'Cuttack', 'extra_runs': 83}, {'venue': 'Nehru Stadium', 'city': 'Kochi', 'extra_runs': 77}, {'venue': 'Shaheed Veer Narayan Singh International Stadium', 'city': 'Raipur', 'extra_runs': 77}, {'venue': 'Green Park', 'city': 'Kanpur', 'extra_runs': 62}, {'venue': 'Vidarbha Cricket Association Stadium, Jamtha', 'city': 'Nagpur', 'extra_runs': 60}, {'venue': 'Buffalo Park', 'city': 'East London', 'extra_runs': 57}, {'venue': 'OUTsurance Oval', 'city': 'Bloemfontein', 'extra_runs': 41}, {'venue': 'De Beers Diamond Oval', 'city': 'Kimberley', 'extra_runs': 39}]\n"
          ]
        }
      ],
      "execution_count": 92
    },
    {
      "cell_type": "code",
      "source": [
        "qry6_result = db.get_query6_result(con);\n",
        "print(qry6_result)"
      ],
      "metadata": {
        "application/vnd.databricks.v1+cell": {
          "title": "",
          "showTitle": false,
          "inputWidgets": {},
          "nuid": "21a3549d-1f09-4d41-8323-21243e9c5f1e"
        },
        "id": "e0tOBeDNtkSA",
        "outputId": "97c55a9f-44d7-4c2a-8af7-e08bdba16dfb",
        "colab": {
          "base_uri": "https://localhost:8080/"
        }
      },
      "outputs": [
        {
          "output_type": "stream",
          "name": "stdout",
          "text": [
            "[{'player_of_match': 'GJ Maxwell', 'count(m.player_of_match)': 3}, {'player_of_match': 'JH Kallis', 'count(m.player_of_match)': 3}, {'player_of_match': 'JP Duminy', 'count(m.player_of_match)': 3}, {'player_of_match': 'YK Pathan', 'count(m.player_of_match)': 3}, {'player_of_match': 'AB de Villiers', 'count(m.player_of_match)': 2}, {'player_of_match': 'AC Gilchrist', 'count(m.player_of_match)': 2}, {'player_of_match': 'DPMD Jayawardene', 'count(m.player_of_match)': 2}, {'player_of_match': 'DR Smith', 'count(m.player_of_match)': 2}, {'player_of_match': 'KC Sangakkara', 'count(m.player_of_match)': 2}, {'player_of_match': 'LRPL Taylor', 'count(m.player_of_match)': 2}, {'player_of_match': 'M Muralitharan', 'count(m.player_of_match)': 2}, {'player_of_match': 'MK Pandey', 'count(m.player_of_match)': 2}, {'player_of_match': 'ML Hayden', 'count(m.player_of_match)': 2}, {'player_of_match': 'RG Sharma', 'count(m.player_of_match)': 2}, {'player_of_match': 'SK Raina', 'count(m.player_of_match)': 2}, {'player_of_match': 'SR Tendulkar', 'count(m.player_of_match)': 2}, {'player_of_match': 'Sandeep Sharma', 'count(m.player_of_match)': 2}, {'player_of_match': 'Yuvraj Singh', 'count(m.player_of_match)': 2}, {'player_of_match': 'A Kumble', 'count(m.player_of_match)': 1}, {'player_of_match': 'A Mishra', 'count(m.player_of_match)': 1}, {'player_of_match': 'A Nehra', 'count(m.player_of_match)': 1}, {'player_of_match': 'A Singh', 'count(m.player_of_match)': 1}, {'player_of_match': 'AJ Finch', 'count(m.player_of_match)': 1}, {'player_of_match': 'AM Rahane', 'count(m.player_of_match)': 1}, {'player_of_match': 'B Kumar', 'count(m.player_of_match)': 1}, {'player_of_match': 'B Lee', 'count(m.player_of_match)': 1}, {'player_of_match': 'BJ Hodge', 'count(m.player_of_match)': 1}, {'player_of_match': 'CA Lynn', 'count(m.player_of_match)': 1}, {'player_of_match': 'CH Gayle', 'count(m.player_of_match)': 1}, {'player_of_match': 'DL Vettori', 'count(m.player_of_match)': 1}, {'player_of_match': 'DP Nannes', 'count(m.player_of_match)': 1}, {'player_of_match': 'G Gambhir', 'count(m.player_of_match)': 1}, {'player_of_match': 'GC Smith', 'count(m.player_of_match)': 1}, {'player_of_match': 'HH Gibbs', 'count(m.player_of_match)': 1}, {'player_of_match': 'Harbhajan Singh', 'count(m.player_of_match)': 1}, {'player_of_match': 'JP Faulkner', 'count(m.player_of_match)': 1}, {'player_of_match': 'LR Shukla', 'count(m.player_of_match)': 1}, {'player_of_match': 'M Vijay', 'count(m.player_of_match)': 1}, {'player_of_match': 'MM Sharma', 'count(m.player_of_match)': 1}, {'player_of_match': 'MS Dhoni', 'count(m.player_of_match)': 1}, {'player_of_match': 'MV Boucher', 'count(m.player_of_match)': 1}, {'player_of_match': 'PA Patel', 'count(m.player_of_match)': 1}, {'player_of_match': 'PP Ojha', 'count(m.player_of_match)': 1}, {'player_of_match': 'PV Tambe', 'count(m.player_of_match)': 1}, {'player_of_match': 'R Bhatia', 'count(m.player_of_match)': 1}, {'player_of_match': 'R Dravid', 'count(m.player_of_match)': 1}, {'player_of_match': 'RA Jadeja', 'count(m.player_of_match)': 1}, {'player_of_match': 'RP Singh', 'count(m.player_of_match)': 1}, {'player_of_match': 'RS Bopara', 'count(m.player_of_match)': 1}, {'player_of_match': 'S Badrinath', 'count(m.player_of_match)': 1}, {'player_of_match': 'SB Jakati', 'count(m.player_of_match)': 1}, {'player_of_match': 'SK Warne', 'count(m.player_of_match)': 1}, {'player_of_match': 'TM Dilshan', 'count(m.player_of_match)': 1}, {'player_of_match': 'V Sehwag', 'count(m.player_of_match)': 1}, {'player_of_match': 'YS Chahal', 'count(m.player_of_match)': 1}]\n"
          ]
        }
      ],
      "execution_count": 93
    },
    {
      "cell_type": "code",
      "source": [
        "qry7_result = db.get_query7_result(con);\n",
        "print(qry7_result)"
      ],
      "metadata": {
        "application/vnd.databricks.v1+cell": {
          "title": "",
          "showTitle": false,
          "inputWidgets": {},
          "nuid": "8e76ce70-f49f-4bf0-88e0-8e1db1ffc39f"
        },
        "id": "RLn9YSw_tkSB",
        "outputId": "08853d19-0155-4692-b2c0-05a5f4eaa7c4",
        "colab": {
          "base_uri": "https://localhost:8080/"
        }
      },
      "outputs": [
        {
          "output_type": "stream",
          "name": "stdout",
          "text": [
            "[{'umpire': 'S Ravi', 'umpire_count': 121}, {'umpire': 'HDPK Dharmasena', 'umpire_count': 94}, {'umpire': 'AK Chaudhary', 'umpire_count': 87}, {'umpire': 'C Shamshuddin', 'umpire_count': 82}, {'umpire': 'M Erasmus', 'umpire_count': 65}, {'umpire': 'CK Nandan', 'umpire_count': 57}, {'umpire': 'Nitin Menon', 'umpire_count': 57}, {'umpire': 'SJA Taufel', 'umpire_count': 55}, {'umpire': 'Asad Rauf', 'umpire_count': 51}, {'umpire': 'VA Kulkarni', 'umpire_count': 50}, {'umpire': 'BNJ Oxenford', 'umpire_count': 48}, {'umpire': 'CB Gaffaney', 'umpire_count': 47}, {'umpire': 'RJ Tucker', 'umpire_count': 46}, {'umpire': 'BR Doctrove', 'umpire_count': 42}, {'umpire': 'RE Koertzen', 'umpire_count': 41}, {'umpire': 'Aleem Dar', 'umpire_count': 38}, {'umpire': 'BF Bowden', 'umpire_count': 37}, {'umpire': 'NJ Llong', 'umpire_count': 37}, {'umpire': 'KN Ananthapadmanabhan', 'umpire_count': 33}, {'umpire': 'RK Illingworth', 'umpire_count': 31}, {'umpire': 'SK Tarapore', 'umpire_count': 31}, {'umpire': 'RB Tiffin', 'umpire_count': 30}, {'umpire': 'S Asnani', 'umpire_count': 30}, {'umpire': 'AY Dandekar', 'umpire_count': 28}, {'umpire': 'DJ Harper', 'umpire_count': 27}, {'umpire': 'AM Saheba', 'umpire_count': 26}, {'umpire': 'VK Sharma', 'umpire_count': 26}, {'umpire': 'A Nand Kishore', 'umpire_count': 25}, {'umpire': 'PR Reiffel', 'umpire_count': 24}, {'umpire': 'K Hariharan', 'umpire_count': 21}, {'umpire': 'YC Barde', 'umpire_count': 19}, {'umpire': 'BG Jerling', 'umpire_count': 17}, {'umpire': 'JD Cloete', 'umpire_count': 17}, {'umpire': 'SS Hazare', 'umpire_count': 17}, {'umpire': 'K Srinath', 'umpire_count': 15}, {'umpire': 'S Das', 'umpire_count': 15}, {'umpire': 'IL Howell', 'umpire_count': 14}, {'umpire': 'SL Shastri', 'umpire_count': 14}, {'umpire': 'A Deshmukh', 'umpire_count': 12}, {'umpire': 'MR Benson', 'umpire_count': 12}, {'umpire': 'PG Pathak', 'umpire_count': 11}, {'umpire': 'UV Gandhe', 'umpire_count': 8}, {'umpire': 'GAV Baxter', 'umpire_count': 7}, {'umpire': 'RM Deshpande', 'umpire_count': 7}, {'umpire': 'SJ Davis', 'umpire_count': 7}, {'umpire': 'AL Hill', 'umpire_count': 6}, {'umpire': 'AV Jayaprakash', 'umpire_count': 6}, {'umpire': 'GA Pratapkumar', 'umpire_count': 6}, {'umpire': 'I Shivram', 'umpire_count': 6}, {'umpire': 'IJ Gould', 'umpire_count': 6}, {'umpire': 'K Srinivasan', 'umpire_count': 6}, {'umpire': 'SD Fry', 'umpire_count': 6}, {'umpire': 'TH Wijewardene', 'umpire_count': 5}, {'umpire': 'K Bharatan', 'umpire_count': 3}, {'umpire': 'SD Ranade', 'umpire_count': 2}, {'umpire': 'Subroto Das', 'umpire_count': 1}]\n"
          ]
        }
      ],
      "execution_count": 94
    },
    {
      "cell_type": "code",
      "source": [
        "qry8_result = db.get_query8_result(con);\n",
        "print(qry8_result)"
      ],
      "metadata": {
        "application/vnd.databricks.v1+cell": {
          "title": "",
          "showTitle": false,
          "inputWidgets": {},
          "nuid": "4f7ad31d-4ae1-4dd5-82de-44708ce40a2c"
        },
        "id": "H4o9deQFtkSC",
        "outputId": "27590dab-d447-42a0-9bcd-1afaa8dd8c02",
        "colab": {
          "base_uri": "https://localhost:8080/"
        }
      },
      "outputs": [
        {
          "output_type": "stream",
          "name": "stdout",
          "text": [
            "[{'match_id': 980999, 'venue': 'M.Chinnaswamy Stadium', 'city': 'Bengaluru', 'TotalRuns': 113}]\n"
          ]
        }
      ],
      "execution_count": 95
    },
    {
      "cell_type": "code",
      "source": [
        "db.close_conn(con)"
      ],
      "metadata": {
        "application/vnd.databricks.v1+cell": {
          "title": "",
          "showTitle": false,
          "inputWidgets": {},
          "nuid": "177ab62b-4379-4630-8b07-9f6bd09f267a"
        },
        "id": "E4ltAF0VtkSD",
        "outputId": "f47a8588-9fa2-4e6a-fd7e-2838fdc55226",
        "colab": {
          "base_uri": "https://localhost:8080/"
        }
      },
      "outputs": [
        {
          "output_type": "stream",
          "name": "stdout",
          "text": [
            "Database connection closed successfully\n"
          ]
        }
      ],
      "execution_count": 96
    }
  ],
  "metadata": {
    "application/vnd.databricks.v1+notebook": {
      "notebookName": "DataGrokr Assignment",
      "dashboards": [],
      "notebookMetadata": {
        "pythonIndentUnit": 4
      },
      "language": "python",
      "widgets": {},
      "notebookOrigID": 3973652684757661
    },
    "colab": {
      "name": "IPL Data Analysis with PySpark",
      "provenance": [],
      "collapsed_sections": [
        "S5Hk2M5WtkRG"
      ],
      "include_colab_link": true
    },
    "language_info": {
      "name": "python"
    },
    "kernelspec": {
      "name": "python3",
      "display_name": "Python 3"
    }
  },
  "nbformat": 4,
  "nbformat_minor": 0
}